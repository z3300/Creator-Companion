{
  "nbformat": 4,
  "nbformat_minor": 0,
  "metadata": {
    "colab": {
      "provenance": []
    },
    "kernelspec": {
      "name": "python3",
      "display_name": "Python 3"
    },
    "language_info": {
      "name": "python"
    },
    "accelerator": "GPU",
    "gpuClass": "premium"
  },
  "cells": [
    {
      "cell_type": "code",
      "source": [
        "!pip install mutagen\n",
        "!pip install -U openai-whisper"
      ],
      "metadata": {
        "colab": {
          "base_uri": "https://localhost:8080/"
        },
        "id": "vi8POXOJ4TAe",
        "outputId": "239be579-5f38-4596-a48a-db8ea54e7dab"
      },
      "execution_count": null,
      "outputs": [
        {
          "output_type": "stream",
          "name": "stdout",
          "text": [
            "Looking in indexes: https://pypi.org/simple, https://us-python.pkg.dev/colab-wheels/public/simple/\n",
            "Collecting mutagen\n",
            "  Downloading mutagen-1.46.0-py3-none-any.whl (193 kB)\n",
            "\u001b[2K     \u001b[90m━━━━━━━━━━━━━━━━━━━━━━━━━━━━━━━━━━━━━━━\u001b[0m \u001b[32m193.6/193.6 KB\u001b[0m \u001b[31m8.9 MB/s\u001b[0m eta \u001b[36m0:00:00\u001b[0m\n",
            "\u001b[?25hInstalling collected packages: mutagen\n",
            "Successfully installed mutagen-1.46.0\n",
            "Looking in indexes: https://pypi.org/simple, https://us-python.pkg.dev/colab-wheels/public/simple/\n",
            "Collecting openai-whisper\n",
            "  Downloading openai-whisper-20230314.tar.gz (792 kB)\n",
            "\u001b[2K     \u001b[90m━━━━━━━━━━━━━━━━━━━━━━━━━━━━━━━━━━━━━━\u001b[0m \u001b[32m792.9/792.9 KB\u001b[0m \u001b[31m20.5 MB/s\u001b[0m eta \u001b[36m0:00:00\u001b[0m\n",
            "\u001b[?25h  Installing build dependencies ... \u001b[?25l\u001b[?25hdone\n",
            "  Getting requirements to build wheel ... \u001b[?25l\u001b[?25hdone\n",
            "  Preparing metadata (pyproject.toml) ... \u001b[?25l\u001b[?25hdone\n",
            "Requirement already satisfied: more-itertools in /usr/local/lib/python3.9/dist-packages (from openai-whisper) (9.1.0)\n",
            "Requirement already satisfied: numpy in /usr/local/lib/python3.9/dist-packages (from openai-whisper) (1.22.4)\n",
            "Requirement already satisfied: torch in /usr/local/lib/python3.9/dist-packages (from openai-whisper) (1.13.1+cu116)\n",
            "Collecting ffmpeg-python==0.2.0\n",
            "  Downloading ffmpeg_python-0.2.0-py3-none-any.whl (25 kB)\n",
            "Requirement already satisfied: tqdm in /usr/local/lib/python3.9/dist-packages (from openai-whisper) (4.65.0)\n",
            "Collecting tiktoken==0.3.1\n",
            "  Downloading tiktoken-0.3.1-cp39-cp39-manylinux_2_17_x86_64.manylinux2014_x86_64.whl (1.7 MB)\n",
            "\u001b[2K     \u001b[90m━━━━━━━━━━━━━━━━━━━━━━━━━━━━━━━━━━━━━━━━\u001b[0m \u001b[32m1.7/1.7 MB\u001b[0m \u001b[31m70.6 MB/s\u001b[0m eta \u001b[36m0:00:00\u001b[0m\n",
            "\u001b[?25hRequirement already satisfied: numba in /usr/local/lib/python3.9/dist-packages (from openai-whisper) (0.56.4)\n",
            "Collecting triton==2.0.0\n",
            "  Downloading triton-2.0.0-1-cp39-cp39-manylinux2014_x86_64.manylinux_2_17_x86_64.whl (63.3 MB)\n",
            "\u001b[2K     \u001b[90m━━━━━━━━━━━━━━━━━━━━━━━━━━━━━━━━━━━━━━━━\u001b[0m \u001b[32m63.3/63.3 MB\u001b[0m \u001b[31m25.4 MB/s\u001b[0m eta \u001b[36m0:00:00\u001b[0m\n",
            "\u001b[?25hRequirement already satisfied: future in /usr/local/lib/python3.9/dist-packages (from ffmpeg-python==0.2.0->openai-whisper) (0.18.3)\n",
            "Requirement already satisfied: regex>=2022.1.18 in /usr/local/lib/python3.9/dist-packages (from tiktoken==0.3.1->openai-whisper) (2022.10.31)\n",
            "Requirement already satisfied: requests>=2.26.0 in /usr/local/lib/python3.9/dist-packages (from tiktoken==0.3.1->openai-whisper) (2.27.1)\n",
            "Requirement already satisfied: cmake in /usr/local/lib/python3.9/dist-packages (from triton==2.0.0->openai-whisper) (3.25.2)\n",
            "Requirement already satisfied: filelock in /usr/local/lib/python3.9/dist-packages (from triton==2.0.0->openai-whisper) (3.10.7)\n",
            "Collecting lit\n",
            "  Downloading lit-16.0.0.tar.gz (144 kB)\n",
            "\u001b[2K     \u001b[90m━━━━━━━━━━━━━━━━━━━━━━━━━━━━━━━━━━━━━━\u001b[0m \u001b[32m145.0/145.0 KB\u001b[0m \u001b[31m20.2 MB/s\u001b[0m eta \u001b[36m0:00:00\u001b[0m\n",
            "\u001b[?25h  Preparing metadata (setup.py) ... \u001b[?25l\u001b[?25hdone\n",
            "Requirement already satisfied: llvmlite<0.40,>=0.39.0dev0 in /usr/local/lib/python3.9/dist-packages (from numba->openai-whisper) (0.39.1)\n",
            "Requirement already satisfied: setuptools in /usr/local/lib/python3.9/dist-packages (from numba->openai-whisper) (67.6.1)\n",
            "Requirement already satisfied: typing-extensions in /usr/local/lib/python3.9/dist-packages (from torch->openai-whisper) (4.5.0)\n",
            "Requirement already satisfied: certifi>=2017.4.17 in /usr/local/lib/python3.9/dist-packages (from requests>=2.26.0->tiktoken==0.3.1->openai-whisper) (2022.12.7)\n",
            "Requirement already satisfied: charset-normalizer~=2.0.0 in /usr/local/lib/python3.9/dist-packages (from requests>=2.26.0->tiktoken==0.3.1->openai-whisper) (2.0.12)\n",
            "Requirement already satisfied: idna<4,>=2.5 in /usr/local/lib/python3.9/dist-packages (from requests>=2.26.0->tiktoken==0.3.1->openai-whisper) (3.4)\n",
            "Requirement already satisfied: urllib3<1.27,>=1.21.1 in /usr/local/lib/python3.9/dist-packages (from requests>=2.26.0->tiktoken==0.3.1->openai-whisper) (1.26.15)\n",
            "Building wheels for collected packages: openai-whisper, lit\n",
            "  Building wheel for openai-whisper (pyproject.toml) ... \u001b[?25l\u001b[?25hdone\n",
            "  Created wheel for openai-whisper: filename=openai_whisper-20230314-py3-none-any.whl size=796926 sha256=ff7427d0760a9b3d968b41b5e0c07de5f79165e0391c990e4db02b72c53b7f5c\n",
            "  Stored in directory: /root/.cache/pip/wheels/c4/85/e6/0bb9507b8e4f3f6d9c6dcf318bc3514739430375aa8e9eaf5b\n",
            "  Building wheel for lit (setup.py) ... \u001b[?25l\u001b[?25hdone\n",
            "  Created wheel for lit: filename=lit-16.0.0-py3-none-any.whl size=93601 sha256=9eab54296c3e37a82823a4983c2fa5eb926d69e45071aad3ca99a1c02d5dc504\n",
            "  Stored in directory: /root/.cache/pip/wheels/c7/ee/80/1520ca86c3557f70e5504b802072f7fc3b0e2147f376b133ed\n",
            "Successfully built openai-whisper lit\n",
            "Installing collected packages: lit, ffmpeg-python, triton, tiktoken, openai-whisper\n",
            "Successfully installed ffmpeg-python-0.2.0 lit-16.0.0 openai-whisper-20230314 tiktoken-0.3.1 triton-2.0.0\n"
          ]
        }
      ]
    },
    {
      "cell_type": "code",
      "source": [
        "import os\n",
        "import pandas as pd\n",
        "import whisper\n",
        "from tqdm import tqdm\n",
        "from mutagen.mp3 import MP3"
      ],
      "metadata": {
        "id": "edg_5KO_mmWk"
      },
      "execution_count": null,
      "outputs": []
    },
    {
      "cell_type": "code",
      "execution_count": null,
      "metadata": {
        "id": "0LQ5Xtk1mZIy"
      },
      "outputs": [],
      "source": [
        "#path of mp3 files\n",
        "path = \"/content/drive/MyDrive/The Colin and Samir Show\""
      ]
    },
    {
      "cell_type": "code",
      "source": [
        "\n",
        "def list_files_in_path(path):\n",
        "    try:\n",
        "        all_items = os.listdir(path)  # List all items in the specified path\n",
        "        files_only = [item for item in all_items if os.path.isfile(os.path.join(path, item))]  # Filter out directories\n",
        "        return files_only\n",
        "    except FileNotFoundError:\n",
        "        print(f\"The specified path '{path}' does not exist.\")\n",
        "        return []"
      ],
      "metadata": {
        "id": "lrwVF7A9rdMV"
      },
      "execution_count": null,
      "outputs": []
    },
    {
      "cell_type": "code",
      "source": [
        "files_in_path = list_files_in_path(path)\n",
        "print(files_in_path)\n",
        "len(files_in_path)"
      ],
      "metadata": {
        "colab": {
          "base_uri": "https://localhost:8080/"
        },
        "id": "_UNIWLtpr_Re",
        "outputId": "1b961c85-33d8-41c1-d862-defe0e0bc01b"
      },
      "execution_count": null,
      "outputs": [
        {
          "output_type": "stream",
          "name": "stdout",
          "text": [
            "['Dealing with Uncertainty and looking back on 2018.mp3', 'We want your feedback.mp3', 'New Year, New Beginnings.mp3', 'Our first big Hollywood meeting.mp3', 'Finding your niche audience - LIVE Episode.mp3', \"Creating a career doing what you love with Matt D'avella.mp3\", 'We never thought this day would come.mp3', 'The art of love, kindness and empathy with Houston Kraft.mp3', 'We did it, We made a movie.mp3', 'How to Change the World with Ammar Kandil of Yes Theory.mp3', 'How to be more than an athlete with Paul Rabil.mp3', 'How to Delete Instagram and take a break from Social Media.mp3', 'Lessons from Game of Thrones - the value of consistency.mp3', 'The importance of having a North Star - and we answer your questions.mp3', 'Saying Yes to Yes Theory.mp3', 'Dealing with Self Doubt.mp3', 'A quick update, See you in June!.mp3', 'Making a TV Show_ What we Learned.mp3', 'Who do you want to be_ A conversation about Masculinity and Identity in Media.mp3', \"F_ck it, Let's just get jobs.mp3\", 'Behind the Scenes of Yes Theory ft Thomas Dajer.mp3', 'Ask Samir Anything.mp3', 'Candid Thoughts on Turning 30.mp3', \"We made another movie ft Yes Theory's Ammar Kandil.mp3\", 'Why we took a break.mp3', 'If you could do anything for 30 days.mp3', 'Instagram is Removing Likes.mp3', 'Lessons from Failed YouTubers.mp3', '$70,000 in a day ft. Thomas Dajer of Yes Theory.mp3', 'Our Perspective on the New Normal.mp3', '50 Million Views with Coolman Coffeedan.mp3', '10 Things we Learned from 10 Days in Quarantine.mp3', 'The Value of Comedy during times like these ft. Esteban Gast.mp3', 'A day in the life of Colin and Samir __Quarantine Edition.mp3', 'Lessons from 8 years of YouTube.mp3', 'The Future of the World.mp3', 'A candid look into our brainstorming process.mp3', 'George Floyd and American Racism, A Discussion.mp3', 'Why Tiktok is taking over.mp3', 'The Growing Pains of Growing a Creator Business.mp3', \"F_ck it, let's get jobs (Part 2).mp3\", 'New Studio, New Subscribers and a New Business Venture.mp3', 'A $17,000 gamble on YouTube ft. Airrack.mp3', 'Is College Still Worth it_.mp3', \"Actor, Farmer, TikTok Star - Pierson Fode's Life Story.mp3\", 'What we want to do when we grow up.mp3', 'The Social Dilemma_ A conversation.mp3', \"Our Thoughts on Casey Neistat's Return to Vlogging.mp3\", 'VOTE_ A conversation about Voting.mp3', 'Making your own Market_ Why Logan Paul Bought $200,000 in Pokemon Cards.mp3', 'Creativity, Video and the meaning of Life_ The Evolution of Jack Coyne.mp3', 'Making Music a Career with Henry Hall.mp3', 'Building a better world for Creators ft Joe Albanese.mp3', 'Predicting the Biggest Creator Trends of 2021.mp3', 'Reviewing our worst Brand Deals.mp3', 'How Mr. Beast turns $Millions into Billions.mp3', 'How Graham Stephan makes $4,578,896.32 a year on YouTube.mp3', 'Elon Musk, Clubhouse and going to the Moon 🚀.mp3', \"David Dobrik's $100 Million Dollar Deal with Spotify.mp3\", 'YouTuber Products_ Winners & Losers.mp3', 'The NFT Episode_ How Logan Paul made $5million selling air.mp3', 'The MKBHD Episode.mp3', 'The $69M Digital Painting_ Beeple, Explained.mp3', \"Charli D'amelio is selling out... (of Cold Brew).mp3\", 'Meet the Girls Saving Clubhouse and Social Media.mp3', 'The Mr. Beast Interview_ Spending Millions of Dollars for Billions of Views.mp3', 'The Problem with Buying Stock in Logan Paul (BitClout).mp3', 'How Nas Daily makes $8 million a year with Facebook video.mp3', 'Why Emma Chamberlain is the new Casey Neistat.mp3', 'How much YouTube has paid us since the beginning (14M views) ft. Li Jin.mp3', 'Selling our first NFT pt 1.mp3', \"How Dixie D'Amelio Murdered Late Night.mp3\", 'Why Creators are opening Hotels ft Shelby Church.mp3', 'Is TikTok Ruining the Music Industry_.mp3', 'Ryan Trahan_ From college dropout to the YouTube trending page.mp3', \"We played Roblox so you don't have to.mp3\", 'Being a YouTuber in India ft. Sejal Kumar.mp3', 'The Disney-Fication of the Nelk Boys.mp3', 'How Much Money Airrack Makes with 1M subscribers on YouTube.mp3', \"The High Price of Airrack's Success.mp3\", 'How College Athlete Vloggers became Millionaires Overnight.mp3', 'The TikTok Cult Leader - Victoria Paris.mp3', 'Tai Verdes_ The making of a modern day popstar.mp3', '👋🏽 Hey It’s Samir.mp3', 'He sold his company to Amazon for $970,000,000 ft Justin Kan.mp3', 'Why does everyone leave the Hype House_.mp3', '72 hours with the most popular YouTuber on the planet, Mr. Beast.mp3', 'The Wildly Lucrative world of Ice Cream TikTok ft. Dylan Lemay.mp3', 'Why the Paul Brothers are Saving the Boxing Industry ft. Hayden Hillier Smith.mp3', \"Dear Emma Chamberlain, You've Changed.mp3\", 'A Conversation with MrBeast’s Mom.mp3', 'The Full Story of MrBeast.mp3', \"The Dark Side of the Charli and Dixie D'amelio.mp3\", 'Predicting the Future of the Creator Economy.mp3', 'The Silent Genius of Khaby Lame.mp3', 'The Future of YouTube_ A Conversation with YouTube Chief Business Officer Robert Kyncl.mp3', 'How Squid Game saved Netflix.mp3', 'Elle Mills_ Life after Burnout.mp3', 'Jack Conte_ The Unexpected Story of Patreon.mp3', 'Dude Perfect’s struggle with YouTube.mp3', 'Let’s talk about the Metaverse.mp3', 'How MrBeast _Stole_ Squid Game.mp3', 'The Entire Story of Lilly Singh.mp3', \"Jeff Wittek's Rise and Demise (and rise again).mp3\", 'Inside the Mind of MKBHD.mp3', 'How we built The Colin and Samir Show.mp3', \"Logan Paul & KSI's $10 Billion Sports Drink.mp3\", 'Answering your Questions [Audio Exclusive].mp3', 'MrBeast is selling his YouTube Channel.mp3', 'TikTok’s Money Problem.mp3', 'Why Liza Koshy Disappeared from YouTube.mp3', 'MrFeast & a day with Van Neistat.mp3', 'The Richest Kid on YouTube.mp3', 'TikTok Takes over the SuperBowl, David Dobrik, and Wordle.mp3', 'How Andrew Schulz dismantled the business of comedy.mp3', 'What Kanye taught us about YouTube.mp3', 'How Ludwig Ahgren became the #1 Streamer on Twitch.mp3', 'How Amelia Dimoldenberg built a hit YouTube Show.mp3', 'Inside the mind of Artist Van Neistat.mp3', 'Why Emma Chamberlain Quit YouTube.mp3', 'The Untold Truth of Binging With Babish.mp3', \"Why TikTok's Top Stars Raised a $25M Fund 💸.mp3\", 'How much money should I charge_ [Creator Support].mp3', 'Why some creators fail and others succeed [Creator Support].mp3', 'Yes Theory_ The Business of Saying _No_ with Thomas Brag and Ammar Kandil.mp3', 'Should creators drop out of college_ [Creator Support].mp3', \"The Most Popular Kids in New York_ Ur Mom's House.mp3\", 'Elon Musk bought Twitter, now what_ [Creator Support].mp3', 'Why Andrew Callaghan is the last honest man in News.mp3', \"Why we're struggling to make videos [Creator Support].mp3\", 'How we deal with hate messages [Creator Support].mp3', 'How ZHC Became The MrBeast of Art.mp3', 'Has Instagram turned its back on creators_ [Creator Support].mp3', 'Meet YouTube’s Worst Inventor_ Simone Giertz.mp3', 'What does a recession mean for Creators_ [Creator Support].mp3', 'How Michelle Khare Became the Most Badass Human on YouTube.mp3', 'Does Consistency Matter on YouTube Anymore_ [Creator Support].mp3', 'How Ryan Trahan Changed YouTube with a Penny.mp3', 'How much do YouTuber employees make_ [Creator Support].mp3', 'How Nick Martell & Jack Kramer built Snacks Daily and then, The Best One Yet.mp3', 'Why our show is changing [Creator Support].mp3', 'How to build a podcast on YouTube [Creator Support].mp3', 'How short-form content gets monetized [Creator Support].mp3', 'Why KSI can do everything all at once.mp3', '3 Key Takeaways from VidCon [Creator Support].mp3', 'Why taking a break is terrifying [Creator Support].mp3', 'An honest conversation with Jordan Matter_ The oldest YouTuber with 11M subscribers.mp3', 'An honest conversation with TommyInnit.mp3', 'How to create on days when you have no motivation [Creator Support].mp3', 'YouTubers ask us questions — how much money we make, our biggest regret and more [Extended cut].mp3', 'The one thing all successful creators have in common [Creator Support].mp3', 'How MrBeast crossed 100M subscribers and became the biggest YouTuber in the world.mp3', 'How to make challenge videos if you can’t give away $1 million [Creator Support].mp3', 'How Flagrant’s Andrew Schulz fixed the biggest problem in comedy.mp3', \"Why it's so hard to hire a good editor [Creator Support].mp3\", 'The nearly impossible job of managing MrBeast_ An interview with Reed Duchscher [Extended}.mp3', 'Addressing criticism from our audience [Creator Support].mp3', \"Cody Ko & Noel Miller on Quitting That's Cringe, Monetizing TMG, and Partying with Elon Musk [Extended].mp3\", 'What to do when a video tanks [Creator Support].mp3', 'Why creators need a bucket list – our interview with Ben Nemtin.mp3', 'What the end of Instagram means for small businesses [Creator Support].mp3', 'How Rhett and Link Failed their way to 8 Billion Views on YouTube.mp3', 'What really happened at the MrBeast Burger opening.mp3', 'What creators can learn from professional athletes — our conversation with lacrosse star Paul Rabil.mp3', 'How we deal with jealousy [Creator Support].mp3', 'How Jarvis Johnson Quit His Job to Sit and Talk to Millions.mp3', 'How YouTube is about to change forever [Creator Support].mp3', \"The story behind Twitch's worst week ever.mp3\", 'Our response to getting copied on YouTube [Creator Support].mp3', 'How to develop discipline_ A conversation with Ryan Holiday.mp3', 'How it actually felt to cross 1 million subscribers [Creator Support].mp3', 'Lessons from a Master Storyteller_ Hasan Minhaj.mp3', 'How to make a comeback on YouTube [Creator Support].mp3', 'What a YouTube producer actually does [Creator Support].mp3', '3 genius strategies Dream used to get 31 million subscribers.mp3', '4 predictions for the future of the creator economy [Creator Support].mp3', \"Our thoughts on Elon Musk's Twitter [Creator Support].mp3\", 'Inside the complicated business of Vlogging_ Interview with UrMomAshley.mp3', 'Why everyone is getting fired in the Creator Economy.mp3', 'The Making of our MrBeast Burger Documentary.mp3', \"What FTX's collapse means for creators [Creator Support].mp3\", \"Making sense of Elon Musk's Twitter.mp3\", 'The Cure for Loneliness as a Creator [Creator Support].mp3', 'The Full Story of Mark Rober.mp3', 'We lost.mp3', \"Year in Review_ Analyzing YouTube's Top 10 moments of 2022.mp3\", 'Predicting the impact of AI on creators.mp3', 'The future of Twitter without Elon Musk.mp3', 'Our conversation with Elon Musk.mp3', 'What happens when a creator gets cancelled.mp3', 'How Caleb Simpson Mastered YouTube Shorts.mp3', '3 Things We Learned from 3 Brilliant People.mp3', 'Why YouTube paid us $268,016.60 in 2022.mp3', 'We interviewed YouTube employees about Shorts monetization.mp3', 'How much YouTubers charge for collaborations.mp3', 'The problem with copying on YouTube.mp3', \"What YouTube's CEO stepping down means for creators.mp3\", 'Should you work for a YouTuber_.mp3', 'How Kai Cenat became the King of Twitch.mp3', 'Why YouTubers were better in 2017.mp3']\n"
          ]
        }
      ]
    },
    {
      "cell_type": "code",
      "source": [
        "full_path_with_file = []\n",
        "for x in files_in_path:\n",
        "  y = path + \"/\" + x\n",
        "  full_path_with_file.append(y)\n"
      ],
      "metadata": {
        "id": "aNeg90h5TNWB"
      },
      "execution_count": null,
      "outputs": []
    },
    {
      "cell_type": "code",
      "source": [
        "#episode titles\n",
        "episodes = []\n",
        "for item in files_in_path:\n",
        "  item = item.replace(\".mp3\", \"\")\n",
        "  episodes.append(item)"
      ],
      "metadata": {
        "id": "t0ibhQf_sHQ0"
      },
      "execution_count": null,
      "outputs": []
    },
    {
      "cell_type": "code",
      "source": [
        "df = pd.DataFrame(episodes, columns=['episodes'])"
      ],
      "metadata": {
        "id": "0nIb6SMYxCWx"
      },
      "execution_count": null,
      "outputs": []
    },
    {
      "cell_type": "code",
      "source": [
        "df[\"full_path\"] = full_path_with_file"
      ],
      "metadata": {
        "id": "PS2IEukjxPfq"
      },
      "execution_count": null,
      "outputs": []
    },
    {
      "cell_type": "code",
      "source": [
        "df.episodes[75]"
      ],
      "metadata": {
        "colab": {
          "base_uri": "https://localhost:8080/",
          "height": 35
        },
        "id": "clnqeHGbvZ9D",
        "outputId": "ba147229-033c-455c-b037-af502b785aff"
      },
      "execution_count": null,
      "outputs": [
        {
          "output_type": "execute_result",
          "data": {
            "text/plain": [
              "\"We played Roblox so you don't have to\""
            ],
            "application/vnd.google.colaboratory.intrinsic+json": {
              "type": "string"
            }
          },
          "metadata": {},
          "execution_count": 6
        }
      ]
    },
    {
      "cell_type": "code",
      "source": [
        "audio_length = []\n",
        "for f in files_in_path:\n",
        "  full_path = path + \"/\" + f\n",
        "  audio = MP3(full_path)\n",
        "  audio_length.append(audio.info.length)\n",
        "print(audio_length)"
      ],
      "metadata": {
        "colab": {
          "base_uri": "https://localhost:8080/"
        },
        "id": "TGFYfqFtMiXh",
        "outputId": "a257b020-2cba-4af2-9b17-62851bf05927"
      },
      "execution_count": null,
      "outputs": [
        {
          "output_type": "stream",
          "name": "stdout",
          "text": [
            "[3617.854625, 108.6954375, 3002.435875, 2947.9705625, 3201.4889375, 3434.5011875, 2319.804, 5201.9721875, 2875.715875, 8642.507666666666, 5221.1199375, 2828.0685, 2236.813, 3088.7183125, 2262.7265, 2613.7338125, 123.663625, 2806.700375, 2940.604, 3042.9779375, 3891.25225, 2279.6015625, 2474.4228125, 3810.61225, 2169.2865, 2433.3060625, 1811.0431875, 2930.3379375, 3302.97475, 2416.4309375, 3851.1543333333334, 2883.7615625, 4814.1321875, 2953.3256875, 2188.512625, 1955.2130833333333, 2911.2163333333333, 3194.3575, 2947.918416666667, 2831.3860625, 3117.71425, 2318.18446875, 4346.3575, 2232.1631875, 7701.368125, 1661.4921875, 3091.5918125, 2293.0285, 1078.77875, 1916.4211875, 4896.888125, 5151.8954375, 4853.263625, 2620.839125, 2340.414625, 1697.2799375, 4809.2734375, 3221.7599375, 2416.16975, 3285.263625, 3095.1444375, 3145.1166875, 1630.7199375, 1847.1705625, 2349.740375, 2556.1076875, 1861.903625, 3634.2073125, 2045.910125, 2147.082375, 1649.9460625, 1928.333, 3005.2833, 1678.2627916666668, 3527.9413, 1560.764, 2224.091375, 1911.1444375, 2805.39425, 1497.6260625, 1208.6856875, 2212.2579375, 3253.159125, 144.16975, 3823.3599375, 2123.284875, 2039.0399375, 1088.1566875, 1946.6970625, 1330.964875, 1536.444, 7012.127291666667, 1271.4318125, 1400.5028125, 1223.6799375, 1633.4889375, 1598.484875, 3062.648125, 6162.1550625, 848.37875, 1277.8056875, 1140.7411875, 4011.9118125, 5892.3362916666665, 4878.158333333334, 2860.460375, 1120.0783125, 2207.373, 979.853, 1765.642375, 853.6031875, 2056.2285, 963.7615625, 2480.27425, 4463.830125, 1081.155875, 3911.183625, 1350.974625, 1886.9550625, 1463.5885, 2384.9011875, 1548.9566875, 1611.5983125, 1526.3085, 7200.862, 1856.940375, 1140.924, 2822.7656875, 834.011375, 1737.3779375, 1846.0211875, 1573.82525, 2467.030125, 1261.244, 1749.8121875, 4771.57875, 2167.0399375, 2761.1428125, 2504.8031875, 2950.5566875, 1887.73875, 2652.0293125, 2321.423625, 1157.8775, 1731.1607916666667, 1882.6709583333334, 3643.68975, 3993.312625, 2669.0089375, 2800.039125, 2555.2195625, 1569.4366875, 1582.6285416666667, 1736.254625, 2172.76075, 7242.893, 2294.8570625, 7213.583625, 2456.0065, 7266.3509375, 1994.3444375, 4490.5795625, 2741.4465, 4319.921583333334, 2481.528125, 3719.00075, 2317.688125, 2070.230125, 2028.6954375, 7297.8285, 2711.666875, 4263.392625, 1869.270125, 2597.92975, 996.493, 2906.462, 2627.1085416666665, 2913.6195416666665, 2478.1583333333333, 5025.854666666667, 2729.822, 3188.453875, 2752.4179166666668, 3742.171375, 3169.697875, 4235.702791666667, 2844.2122083333334, 3676.9175, 4471.771425, 2888.2546666666667, 4597.263625, 2830.2367083333334, 3294.798333333333, 4899.3175, 2427.2456666666667, 2656.1044583333332, 2483.8007916666666, 2769.188541666667, 2832.4832083333336, 2722.5338333333334]\n"
          ]
        }
      ]
    },
    {
      "cell_type": "code",
      "source": [
        "df[\"audio_length\"] = audio_length"
      ],
      "metadata": {
        "id": "2Z6XpDHmNSys"
      },
      "execution_count": null,
      "outputs": []
    },
    {
      "cell_type": "code",
      "source": [
        "df.to_csv('output.csv', index=False)"
      ],
      "metadata": {
        "id": "BBcRXkYIWUh7",
        "colab": {
          "base_uri": "https://localhost:8080/",
          "height": 169
        },
        "outputId": "d0ff7ead-7276-490b-9eee-95421f15672c"
      },
      "execution_count": null,
      "outputs": [
        {
          "output_type": "error",
          "ename": "NameError",
          "evalue": "ignored",
          "traceback": [
            "\u001b[0;31m---------------------------------------------------------------------------\u001b[0m",
            "\u001b[0;31mNameError\u001b[0m                                 Traceback (most recent call last)",
            "\u001b[0;32m<ipython-input-5-f152323c088c>\u001b[0m in \u001b[0;36m<cell line: 1>\u001b[0;34m()\u001b[0m\n\u001b[0;32m----> 1\u001b[0;31m \u001b[0mdf\u001b[0m\u001b[0;34m.\u001b[0m\u001b[0mto_csv\u001b[0m\u001b[0;34m(\u001b[0m\u001b[0;34m'output.csv'\u001b[0m\u001b[0;34m,\u001b[0m \u001b[0mindex\u001b[0m\u001b[0;34m=\u001b[0m\u001b[0;32mFalse\u001b[0m\u001b[0;34m)\u001b[0m\u001b[0;34m\u001b[0m\u001b[0;34m\u001b[0m\u001b[0m\n\u001b[0m",
            "\u001b[0;31mNameError\u001b[0m: name 'df' is not defined"
          ]
        }
      ]
    },
    {
      "cell_type": "code",
      "source": [
        "df = pd.read_csv(\"/content/output.csv\")"
      ],
      "metadata": {
        "id": "otn8XDTcTFF7"
      },
      "execution_count": null,
      "outputs": []
    },
    {
      "cell_type": "code",
      "source": [
        "import whisper\n",
        "from whisper.utils import get_writer\n",
        "model = whisper.load_model(\"base\")"
      ],
      "metadata": {
        "id": "6lonHBjx63gm",
        "colab": {
          "base_uri": "https://localhost:8080/"
        },
        "outputId": "001659e6-e94f-4e94-cf70-550aebed48d3"
      },
      "execution_count": null,
      "outputs": [
        {
          "output_type": "stream",
          "name": "stderr",
          "text": [
            "100%|███████████████████████████████████████| 139M/139M [00:04<00:00, 30.4MiB/s]\n"
          ]
        }
      ]
    },
    {
      "cell_type": "code",
      "source": [
        "df[\"full_path\"][24:]"
      ],
      "metadata": {
        "colab": {
          "base_uri": "https://localhost:8080/",
          "height": 35
        },
        "id": "kVHHTfSB8Hj2",
        "outputId": "cd9ee809-bedb-495e-e15a-dac410d1ed98"
      },
      "execution_count": null,
      "outputs": [
        {
          "output_type": "execute_result",
          "data": {
            "text/plain": [
              "'/content/drive/MyDrive/The Colin and Samir Show/Why we took a break.mp3'"
            ],
            "application/vnd.google.colaboratory.intrinsic+json": {
              "type": "string"
            }
          },
          "metadata": {},
          "execution_count": 20
        }
      ]
    },
    {
      "cell_type": "code",
      "source": [
        "len(df)"
      ],
      "metadata": {
        "id": "PYbH5fEqMc76",
        "colab": {
          "base_uri": "https://localhost:8080/"
        },
        "outputId": "2a5db223-c201-4bdf-e853-32dbb71ad049"
      },
      "execution_count": null,
      "outputs": [
        {
          "output_type": "execute_result",
          "data": {
            "text/plain": [
              "200"
            ]
          },
          "metadata": {},
          "execution_count": 13
        }
      ]
    },
    {
      "cell_type": "code",
      "source": [
        "output_directory = \"/content/drive/MyDrive/ISTM250\"\n",
        "for path in tqdm(df['full_path'][83:]):\n",
        "  result = model.transcribe(path)\n",
        "  # Save as an SRT file\n",
        "  srt_writer = get_writer(\"srt\", output_directory)\n",
        "  srt_writer(result, path)\n",
        "  print(\"Finished :\" + path)"
      ],
      "metadata": {
        "colab": {
          "base_uri": "https://localhost:8080/"
        },
        "id": "TVkLJHlxs5We",
        "outputId": "80977a36-eb86-4a45-8147-b7fc85c697ec"
      },
      "execution_count": null,
      "outputs": [
        {
          "output_type": "stream",
          "name": "stderr",
          "text": [
            "  1%|          | 1/117 [00:16<31:09, 16.12s/it]"
          ]
        },
        {
          "output_type": "stream",
          "name": "stdout",
          "text": [
            "Finished :/content/drive/MyDrive/The Colin and Samir Show/👋🏽 Hey It’s Samir.mp3\n"
          ]
        },
        {
          "output_type": "stream",
          "name": "stderr",
          "text": [
            "\r  2%|▏         | 2/117 [03:19<3:39:44, 114.65s/it]"
          ]
        },
        {
          "output_type": "stream",
          "name": "stdout",
          "text": [
            "Finished :/content/drive/MyDrive/The Colin and Samir Show/He sold his company to Amazon for $970,000,000 ft Justin Kan.mp3\n"
          ]
        },
        {
          "output_type": "stream",
          "name": "stderr",
          "text": [
            "\r  3%|▎         | 3/117 [04:59<3:24:34, 107.67s/it]"
          ]
        },
        {
          "output_type": "stream",
          "name": "stdout",
          "text": [
            "Finished :/content/drive/MyDrive/The Colin and Samir Show/Why does everyone leave the Hype House_.mp3\n"
          ]
        },
        {
          "output_type": "stream",
          "name": "stderr",
          "text": [
            "\r  3%|▎         | 4/117 [06:29<3:10:03, 100.91s/it]"
          ]
        },
        {
          "output_type": "stream",
          "name": "stdout",
          "text": [
            "Finished :/content/drive/MyDrive/The Colin and Samir Show/72 hours with the most popular YouTuber on the planet, Mr. Beast.mp3\n"
          ]
        },
        {
          "output_type": "stream",
          "name": "stderr",
          "text": [
            "\r  4%|▍         | 5/117 [07:23<2:36:40, 83.94s/it] "
          ]
        },
        {
          "output_type": "stream",
          "name": "stdout",
          "text": [
            "Finished :/content/drive/MyDrive/The Colin and Samir Show/The Wildly Lucrative world of Ice Cream TikTok ft. Dylan Lemay.mp3\n"
          ]
        },
        {
          "output_type": "stream",
          "name": "stderr",
          "text": [
            "\r  5%|▌         | 6/117 [08:38<2:29:53, 81.02s/it]"
          ]
        },
        {
          "output_type": "stream",
          "name": "stdout",
          "text": [
            "Finished :/content/drive/MyDrive/The Colin and Samir Show/Why the Paul Brothers are Saving the Boxing Industry ft. Hayden Hillier Smith.mp3\n"
          ]
        },
        {
          "output_type": "stream",
          "name": "stderr",
          "text": [
            "\r  6%|▌         | 7/117 [09:41<2:17:47, 75.15s/it]"
          ]
        },
        {
          "output_type": "stream",
          "name": "stdout",
          "text": [
            "Finished :/content/drive/MyDrive/The Colin and Samir Show/Dear Emma Chamberlain, You've Changed.mp3\n"
          ]
        },
        {
          "output_type": "stream",
          "name": "stderr",
          "text": [
            "\r  7%|▋         | 8/117 [10:43<2:08:27, 70.71s/it]"
          ]
        },
        {
          "output_type": "stream",
          "name": "stdout",
          "text": [
            "Finished :/content/drive/MyDrive/The Colin and Samir Show/A Conversation with MrBeast’s Mom.mp3\n"
          ]
        },
        {
          "output_type": "stream",
          "name": "stderr",
          "text": [
            "\r  8%|▊         | 9/117 [16:54<4:56:12, 164.56s/it]"
          ]
        },
        {
          "output_type": "stream",
          "name": "stdout",
          "text": [
            "Finished :/content/drive/MyDrive/The Colin and Samir Show/The Full Story of MrBeast.mp3\n"
          ]
        },
        {
          "output_type": "stream",
          "name": "stderr",
          "text": [
            "\r  9%|▊         | 10/117 [17:57<3:58:02, 133.48s/it]"
          ]
        },
        {
          "output_type": "stream",
          "name": "stdout",
          "text": [
            "Finished :/content/drive/MyDrive/The Colin and Samir Show/The Dark Side of the Charli and Dixie D'amelio.mp3\n"
          ]
        },
        {
          "output_type": "stream",
          "name": "stderr",
          "text": [
            "\r  9%|▉         | 11/117 [18:57<3:15:40, 110.76s/it]"
          ]
        },
        {
          "output_type": "stream",
          "name": "stdout",
          "text": [
            "Finished :/content/drive/MyDrive/The Colin and Samir Show/Predicting the Future of the Creator Economy.mp3\n"
          ]
        },
        {
          "output_type": "stream",
          "name": "stderr",
          "text": [
            "\r 10%|█         | 12/117 [19:53<2:44:38, 94.08s/it] "
          ]
        },
        {
          "output_type": "stream",
          "name": "stdout",
          "text": [
            "Finished :/content/drive/MyDrive/The Colin and Samir Show/The Silent Genius of Khaby Lame.mp3\n"
          ]
        },
        {
          "output_type": "stream",
          "name": "stderr",
          "text": [
            "\r 11%|█         | 13/117 [20:52<2:25:04, 83.70s/it]"
          ]
        },
        {
          "output_type": "stream",
          "name": "stdout",
          "text": [
            "Finished :/content/drive/MyDrive/The Colin and Samir Show/The Future of YouTube_ A Conversation with YouTube Chief Business Officer Robert Kyncl.mp3\n"
          ]
        },
        {
          "output_type": "stream",
          "name": "stderr",
          "text": [
            "\r 12%|█▏        | 14/117 [22:05<2:18:07, 80.46s/it]"
          ]
        },
        {
          "output_type": "stream",
          "name": "stdout",
          "text": [
            "Finished :/content/drive/MyDrive/The Colin and Samir Show/How Squid Game saved Netflix.mp3\n"
          ]
        },
        {
          "output_type": "stream",
          "name": "stderr",
          "text": [
            "\r 13%|█▎        | 15/117 [24:39<2:54:07, 102.43s/it]"
          ]
        },
        {
          "output_type": "stream",
          "name": "stdout",
          "text": [
            "Finished :/content/drive/MyDrive/The Colin and Samir Show/Elle Mills_ Life after Burnout.mp3\n"
          ]
        },
        {
          "output_type": "stream",
          "name": "stderr",
          "text": [
            "\r 14%|█▎        | 16/117 [28:38<4:01:48, 143.65s/it]"
          ]
        },
        {
          "output_type": "stream",
          "name": "stdout",
          "text": [
            "Finished :/content/drive/MyDrive/The Colin and Samir Show/Jack Conte_ The Unexpected Story of Patreon.mp3\n"
          ]
        },
        {
          "output_type": "stream",
          "name": "stderr",
          "text": [
            "\r 15%|█▍        | 17/117 [29:14<3:05:32, 111.33s/it]"
          ]
        },
        {
          "output_type": "stream",
          "name": "stdout",
          "text": [
            "Finished :/content/drive/MyDrive/The Colin and Samir Show/Dude Perfect’s struggle with YouTube.mp3\n"
          ]
        },
        {
          "output_type": "stream",
          "name": "stderr",
          "text": [
            "\r 15%|█▌        | 18/117 [30:08<2:35:12, 94.07s/it] "
          ]
        },
        {
          "output_type": "stream",
          "name": "stdout",
          "text": [
            "Finished :/content/drive/MyDrive/The Colin and Samir Show/Let’s talk about the Metaverse.mp3\n"
          ]
        },
        {
          "output_type": "stream",
          "name": "stderr",
          "text": [
            "\r 16%|█▌        | 19/117 [30:58<2:11:48, 80.70s/it]"
          ]
        },
        {
          "output_type": "stream",
          "name": "stdout",
          "text": [
            "Finished :/content/drive/MyDrive/The Colin and Samir Show/How MrBeast _Stole_ Squid Game.mp3\n"
          ]
        },
        {
          "output_type": "stream",
          "name": "stderr",
          "text": [
            "\r 17%|█▋        | 20/117 [34:22<3:10:25, 117.79s/it]"
          ]
        },
        {
          "output_type": "stream",
          "name": "stdout",
          "text": [
            "Finished :/content/drive/MyDrive/The Colin and Samir Show/The Entire Story of Lilly Singh.mp3\n"
          ]
        },
        {
          "output_type": "stream",
          "name": "stderr",
          "text": [
            "\r 18%|█▊        | 21/117 [38:30<4:10:53, 156.81s/it]"
          ]
        },
        {
          "output_type": "stream",
          "name": "stdout",
          "text": [
            "Finished :/content/drive/MyDrive/The Colin and Samir Show/Jeff Wittek's Rise and Demise (and rise again).mp3\n"
          ]
        },
        {
          "output_type": "stream",
          "name": "stderr",
          "text": [
            "\r 19%|█▉        | 22/117 [41:41<4:24:48, 167.25s/it]"
          ]
        },
        {
          "output_type": "stream",
          "name": "stdout",
          "text": [
            "Finished :/content/drive/MyDrive/The Colin and Samir Show/Inside the Mind of MKBHD.mp3\n"
          ]
        },
        {
          "output_type": "stream",
          "name": "stderr",
          "text": [
            "\r 20%|█▉        | 23/117 [43:46<4:01:50, 154.36s/it]"
          ]
        },
        {
          "output_type": "stream",
          "name": "stdout",
          "text": [
            "Finished :/content/drive/MyDrive/The Colin and Samir Show/How we built The Colin and Samir Show.mp3\n"
          ]
        },
        {
          "output_type": "stream",
          "name": "stderr",
          "text": [
            "\r 21%|██        | 24/117 [44:35<3:10:37, 122.98s/it]"
          ]
        },
        {
          "output_type": "stream",
          "name": "stdout",
          "text": [
            "Finished :/content/drive/MyDrive/The Colin and Samir Show/Logan Paul & KSI's $10 Billion Sports Drink.mp3\n"
          ]
        },
        {
          "output_type": "stream",
          "name": "stderr",
          "text": [
            "\r 21%|██▏       | 25/117 [46:18<2:59:02, 116.76s/it]"
          ]
        },
        {
          "output_type": "stream",
          "name": "stdout",
          "text": [
            "Finished :/content/drive/MyDrive/The Colin and Samir Show/Answering your Questions [Audio Exclusive].mp3\n"
          ]
        },
        {
          "output_type": "stream",
          "name": "stderr",
          "text": [
            "\r 22%|██▏       | 26/117 [47:00<2:23:17, 94.48s/it] "
          ]
        },
        {
          "output_type": "stream",
          "name": "stdout",
          "text": [
            "Finished :/content/drive/MyDrive/The Colin and Samir Show/MrBeast is selling his YouTube Channel.mp3\n"
          ]
        },
        {
          "output_type": "stream",
          "name": "stderr",
          "text": [
            "\r 23%|██▎       | 27/117 [48:18<2:14:10, 89.45s/it]"
          ]
        },
        {
          "output_type": "stream",
          "name": "stdout",
          "text": [
            "Finished :/content/drive/MyDrive/The Colin and Samir Show/TikTok’s Money Problem.mp3\n"
          ]
        },
        {
          "output_type": "stream",
          "name": "stderr",
          "text": [
            "\r 24%|██▍       | 28/117 [48:57<1:50:08, 74.25s/it]"
          ]
        },
        {
          "output_type": "stream",
          "name": "stdout",
          "text": [
            "Finished :/content/drive/MyDrive/The Colin and Samir Show/Why Liza Koshy Disappeared from YouTube.mp3\n"
          ]
        },
        {
          "output_type": "stream",
          "name": "stderr",
          "text": [
            "\r 25%|██▍       | 29/117 [50:27<1:55:52, 79.01s/it]"
          ]
        },
        {
          "output_type": "stream",
          "name": "stdout",
          "text": [
            "Finished :/content/drive/MyDrive/The Colin and Samir Show/MrFeast & a day with Van Neistat.mp3\n"
          ]
        },
        {
          "output_type": "stream",
          "name": "stderr",
          "text": [
            "\r 26%|██▌       | 30/117 [51:10<1:38:54, 68.21s/it]"
          ]
        },
        {
          "output_type": "stream",
          "name": "stdout",
          "text": [
            "Finished :/content/drive/MyDrive/The Colin and Samir Show/The Richest Kid on YouTube.mp3\n"
          ]
        },
        {
          "output_type": "stream",
          "name": "stderr",
          "text": [
            "\r 26%|██▋       | 31/117 [53:03<1:57:19, 81.85s/it]"
          ]
        },
        {
          "output_type": "stream",
          "name": "stdout",
          "text": [
            "Finished :/content/drive/MyDrive/The Colin and Samir Show/TikTok Takes over the SuperBowl, David Dobrik, and Wordle.mp3\n"
          ]
        },
        {
          "output_type": "stream",
          "name": "stderr",
          "text": [
            "\r 27%|██▋       | 32/117 [56:58<3:01:02, 127.79s/it]"
          ]
        },
        {
          "output_type": "stream",
          "name": "stdout",
          "text": [
            "Finished :/content/drive/MyDrive/The Colin and Samir Show/How Andrew Schulz dismantled the business of comedy.mp3\n"
          ]
        },
        {
          "output_type": "stream",
          "name": "stderr",
          "text": [
            "\r 28%|██▊       | 33/117 [57:51<2:27:06, 105.08s/it]"
          ]
        },
        {
          "output_type": "stream",
          "name": "stdout",
          "text": [
            "Finished :/content/drive/MyDrive/The Colin and Samir Show/What Kanye taught us about YouTube.mp3\n"
          ]
        },
        {
          "output_type": "stream",
          "name": "stderr",
          "text": [
            "\r 29%|██▉       | 34/117 [1:01:05<3:02:20, 131.81s/it]"
          ]
        },
        {
          "output_type": "stream",
          "name": "stdout",
          "text": [
            "Finished :/content/drive/MyDrive/The Colin and Samir Show/How Ludwig Ahgren became the #1 Streamer on Twitch.mp3\n"
          ]
        },
        {
          "output_type": "stream",
          "name": "stderr",
          "text": [
            "\r 30%|██▉       | 35/117 [1:02:08<2:31:55, 111.17s/it]"
          ]
        },
        {
          "output_type": "stream",
          "name": "stdout",
          "text": [
            "Finished :/content/drive/MyDrive/The Colin and Samir Show/How Amelia Dimoldenberg built a hit YouTube Show.mp3\n"
          ]
        },
        {
          "output_type": "stream",
          "name": "stderr",
          "text": [
            "\r 31%|███       | 36/117 [1:03:23<2:15:33, 100.41s/it]"
          ]
        },
        {
          "output_type": "stream",
          "name": "stdout",
          "text": [
            "Finished :/content/drive/MyDrive/The Colin and Samir Show/Inside the mind of Artist Van Neistat.mp3\n"
          ]
        },
        {
          "output_type": "stream",
          "name": "stderr",
          "text": [
            "\r 32%|███▏      | 37/117 [1:04:31<2:00:53, 90.66s/it] "
          ]
        },
        {
          "output_type": "stream",
          "name": "stdout",
          "text": [
            "Finished :/content/drive/MyDrive/The Colin and Samir Show/Why Emma Chamberlain Quit YouTube.mp3\n"
          ]
        },
        {
          "output_type": "stream",
          "name": "stderr",
          "text": [
            "\r 32%|███▏      | 38/117 [1:06:17<2:05:30, 95.32s/it]"
          ]
        },
        {
          "output_type": "stream",
          "name": "stdout",
          "text": [
            "Finished :/content/drive/MyDrive/The Colin and Samir Show/The Untold Truth of Binging With Babish.mp3\n"
          ]
        },
        {
          "output_type": "stream",
          "name": "stderr",
          "text": [
            "\r 33%|███▎      | 39/117 [1:07:30<1:55:05, 88.53s/it]"
          ]
        },
        {
          "output_type": "stream",
          "name": "stdout",
          "text": [
            "Finished :/content/drive/MyDrive/The Colin and Samir Show/Why TikTok's Top Stars Raised a $25M Fund 💸.mp3\n"
          ]
        },
        {
          "output_type": "stream",
          "name": "stderr",
          "text": [
            "\r 34%|███▍      | 40/117 [1:08:38<1:45:51, 82.48s/it]"
          ]
        },
        {
          "output_type": "stream",
          "name": "stdout",
          "text": [
            "Finished :/content/drive/MyDrive/The Colin and Samir Show/How much money should I charge_ [Creator Support].mp3\n"
          ]
        },
        {
          "output_type": "stream",
          "name": "stderr",
          "text": [
            "\r 35%|███▌      | 41/117 [1:09:42<1:37:26, 76.93s/it]"
          ]
        },
        {
          "output_type": "stream",
          "name": "stdout",
          "text": [
            "Finished :/content/drive/MyDrive/The Colin and Samir Show/Why some creators fail and others succeed [Creator Support].mp3\n"
          ]
        },
        {
          "output_type": "stream",
          "name": "stderr",
          "text": [
            "\r 36%|███▌      | 42/117 [1:14:20<2:51:32, 137.23s/it]"
          ]
        },
        {
          "output_type": "stream",
          "name": "stdout",
          "text": [
            "Finished :/content/drive/MyDrive/The Colin and Samir Show/Yes Theory_ The Business of Saying _No_ with Thomas Brag and Ammar Kandil.mp3\n"
          ]
        },
        {
          "output_type": "stream",
          "name": "stderr",
          "text": [
            "\r 37%|███▋      | 43/117 [1:15:36<2:26:42, 118.96s/it]"
          ]
        },
        {
          "output_type": "stream",
          "name": "stdout",
          "text": [
            "Finished :/content/drive/MyDrive/The Colin and Samir Show/Should creators drop out of college_ [Creator Support].mp3\n"
          ]
        },
        {
          "output_type": "stream",
          "name": "stderr",
          "text": [
            "\r 38%|███▊      | 44/117 [1:16:27<1:59:53, 98.54s/it] "
          ]
        },
        {
          "output_type": "stream",
          "name": "stdout",
          "text": [
            "Finished :/content/drive/MyDrive/The Colin and Samir Show/The Most Popular Kids in New York_ Ur Mom's House.mp3\n"
          ]
        },
        {
          "output_type": "stream",
          "name": "stderr",
          "text": [
            "\r 38%|███▊      | 45/117 [1:18:31<2:07:09, 105.96s/it]"
          ]
        },
        {
          "output_type": "stream",
          "name": "stdout",
          "text": [
            "Finished :/content/drive/MyDrive/The Colin and Samir Show/Elon Musk bought Twitter, now what_ [Creator Support].mp3\n"
          ]
        },
        {
          "output_type": "stream",
          "name": "stderr",
          "text": [
            "\r 39%|███▉      | 46/117 [1:19:07<1:40:34, 84.99s/it] "
          ]
        },
        {
          "output_type": "stream",
          "name": "stdout",
          "text": [
            "Finished :/content/drive/MyDrive/The Colin and Samir Show/Why Andrew Callaghan is the last honest man in News.mp3\n"
          ]
        },
        {
          "output_type": "stream",
          "name": "stderr",
          "text": [
            "\r 40%|████      | 47/117 [1:20:18<1:34:32, 81.03s/it]"
          ]
        },
        {
          "output_type": "stream",
          "name": "stdout",
          "text": [
            "Finished :/content/drive/MyDrive/The Colin and Samir Show/Why we're struggling to make videos [Creator Support].mp3\n"
          ]
        },
        {
          "output_type": "stream",
          "name": "stderr",
          "text": [
            "\r 41%|████      | 48/117 [1:21:58<1:39:39, 86.66s/it]"
          ]
        },
        {
          "output_type": "stream",
          "name": "stdout",
          "text": [
            "Finished :/content/drive/MyDrive/The Colin and Samir Show/How we deal with hate messages [Creator Support].mp3\n"
          ]
        },
        {
          "output_type": "stream",
          "name": "stderr",
          "text": [
            "\r 42%|████▏     | 49/117 [1:23:03<1:30:44, 80.07s/it]"
          ]
        },
        {
          "output_type": "stream",
          "name": "stdout",
          "text": [
            "Finished :/content/drive/MyDrive/The Colin and Samir Show/How ZHC Became The MrBeast of Art.mp3\n"
          ]
        },
        {
          "output_type": "stream",
          "name": "stderr",
          "text": [
            "\r 43%|████▎     | 50/117 [1:24:43<1:36:02, 86.01s/it]"
          ]
        },
        {
          "output_type": "stream",
          "name": "stdout",
          "text": [
            "Finished :/content/drive/MyDrive/The Colin and Samir Show/Has Instagram turned its back on creators_ [Creator Support].mp3\n"
          ]
        },
        {
          "output_type": "stream",
          "name": "stderr",
          "text": [
            "\r 44%|████▎     | 51/117 [1:25:46<1:27:00, 79.09s/it]"
          ]
        },
        {
          "output_type": "stream",
          "name": "stdout",
          "text": [
            "Finished :/content/drive/MyDrive/The Colin and Samir Show/Meet YouTube’s Worst Inventor_ Simone Giertz.mp3\n"
          ]
        },
        {
          "output_type": "stream",
          "name": "stderr",
          "text": [
            "\r 44%|████▍     | 52/117 [1:27:07<1:26:14, 79.60s/it]"
          ]
        },
        {
          "output_type": "stream",
          "name": "stdout",
          "text": [
            "Finished :/content/drive/MyDrive/The Colin and Samir Show/What does a recession mean for Creators_ [Creator Support].mp3\n"
          ]
        },
        {
          "output_type": "stream",
          "name": "stderr",
          "text": [
            "\r 45%|████▌     | 53/117 [1:30:21<2:01:41, 114.08s/it]"
          ]
        },
        {
          "output_type": "stream",
          "name": "stdout",
          "text": [
            "Finished :/content/drive/MyDrive/The Colin and Samir Show/How Michelle Khare Became the Most Badass Human on YouTube.mp3\n"
          ]
        },
        {
          "output_type": "stream",
          "name": "stderr",
          "text": [
            "\r 46%|████▌     | 54/117 [1:31:56<1:53:43, 108.31s/it]"
          ]
        },
        {
          "output_type": "stream",
          "name": "stdout",
          "text": [
            "Finished :/content/drive/MyDrive/The Colin and Samir Show/Does Consistency Matter on YouTube Anymore_ [Creator Support].mp3\n"
          ]
        },
        {
          "output_type": "stream",
          "name": "stderr",
          "text": [
            "\r 47%|████▋     | 55/117 [1:34:10<1:59:57, 116.09s/it]"
          ]
        },
        {
          "output_type": "stream",
          "name": "stdout",
          "text": [
            "Finished :/content/drive/MyDrive/The Colin and Samir Show/How Ryan Trahan Changed YouTube with a Penny.mp3\n"
          ]
        },
        {
          "output_type": "stream",
          "name": "stderr",
          "text": [
            "\r 48%|████▊     | 56/117 [1:35:49<1:52:51, 111.02s/it]"
          ]
        },
        {
          "output_type": "stream",
          "name": "stdout",
          "text": [
            "Finished :/content/drive/MyDrive/The Colin and Samir Show/How much do YouTuber employees make_ [Creator Support].mp3\n"
          ]
        },
        {
          "output_type": "stream",
          "name": "stderr",
          "text": [
            "\r 49%|████▊     | 57/117 [1:37:57<1:56:09, 116.15s/it]"
          ]
        },
        {
          "output_type": "stream",
          "name": "stdout",
          "text": [
            "Finished :/content/drive/MyDrive/The Colin and Samir Show/How Nick Martell & Jack Kramer built Snacks Daily and then, The Best One Yet.mp3\n"
          ]
        },
        {
          "output_type": "stream",
          "name": "stderr",
          "text": [
            "\r 50%|████▉     | 58/117 [1:39:20<1:44:20, 106.12s/it]"
          ]
        },
        {
          "output_type": "stream",
          "name": "stdout",
          "text": [
            "Finished :/content/drive/MyDrive/The Colin and Samir Show/Why our show is changing [Creator Support].mp3\n"
          ]
        },
        {
          "output_type": "stream",
          "name": "stderr",
          "text": [
            "\r 50%|█████     | 59/117 [1:41:06<1:42:28, 106.01s/it]"
          ]
        },
        {
          "output_type": "stream",
          "name": "stdout",
          "text": [
            "Finished :/content/drive/MyDrive/The Colin and Samir Show/How to build a podcast on YouTube [Creator Support].mp3\n"
          ]
        },
        {
          "output_type": "stream",
          "name": "stderr",
          "text": [
            "\r 51%|█████▏    | 60/117 [1:42:50<1:40:01, 105.28s/it]"
          ]
        },
        {
          "output_type": "stream",
          "name": "stdout",
          "text": [
            "Finished :/content/drive/MyDrive/The Colin and Samir Show/How short-form content gets monetized [Creator Support].mp3\n"
          ]
        },
        {
          "output_type": "stream",
          "name": "stderr",
          "text": [
            "\r 52%|█████▏    | 61/117 [1:43:36<1:21:47, 87.64s/it] "
          ]
        },
        {
          "output_type": "stream",
          "name": "stdout",
          "text": [
            "Finished :/content/drive/MyDrive/The Colin and Samir Show/Why KSI can do everything all at once.mp3\n"
          ]
        },
        {
          "output_type": "stream",
          "name": "stderr",
          "text": [
            "\r 53%|█████▎    | 62/117 [1:44:50<1:16:31, 83.48s/it]"
          ]
        },
        {
          "output_type": "stream",
          "name": "stdout",
          "text": [
            "Finished :/content/drive/MyDrive/The Colin and Samir Show/3 Key Takeaways from VidCon [Creator Support].mp3\n"
          ]
        },
        {
          "output_type": "stream",
          "name": "stderr",
          "text": [
            "\r 54%|█████▍    | 63/117 [1:46:10<1:14:10, 82.41s/it]"
          ]
        },
        {
          "output_type": "stream",
          "name": "stdout",
          "text": [
            "Finished :/content/drive/MyDrive/The Colin and Samir Show/Why taking a break is terrifying [Creator Support].mp3\n"
          ]
        },
        {
          "output_type": "stream",
          "name": "stderr",
          "text": [
            "\r 55%|█████▍    | 64/117 [1:49:09<1:38:24, 111.41s/it]"
          ]
        },
        {
          "output_type": "stream",
          "name": "stdout",
          "text": [
            "Finished :/content/drive/MyDrive/The Colin and Samir Show/An honest conversation with Jordan Matter_ The oldest YouTuber with 11M subscribers.mp3\n"
          ]
        },
        {
          "output_type": "stream",
          "name": "stderr",
          "text": [
            "\r 56%|█████▌    | 65/117 [1:52:50<2:05:02, 144.28s/it]"
          ]
        },
        {
          "output_type": "stream",
          "name": "stdout",
          "text": [
            "Finished :/content/drive/MyDrive/The Colin and Samir Show/An honest conversation with TommyInnit.mp3\n"
          ]
        },
        {
          "output_type": "stream",
          "name": "stderr",
          "text": [
            "\r 56%|█████▋    | 66/117 [1:55:02<1:59:33, 140.66s/it]"
          ]
        },
        {
          "output_type": "stream",
          "name": "stdout",
          "text": [
            "Finished :/content/drive/MyDrive/The Colin and Samir Show/How to create on days when you have no motivation [Creator Support].mp3\n"
          ]
        },
        {
          "output_type": "stream",
          "name": "stderr",
          "text": [
            "\r 57%|█████▋    | 67/117 [1:57:17<1:55:53, 139.07s/it]"
          ]
        },
        {
          "output_type": "stream",
          "name": "stdout",
          "text": [
            "Finished :/content/drive/MyDrive/The Colin and Samir Show/YouTubers ask us questions — how much money we make, our biggest regret and more [Extended cut].mp3\n"
          ]
        },
        {
          "output_type": "stream",
          "name": "stderr",
          "text": [
            "\r 58%|█████▊    | 68/117 [1:59:29<1:51:40, 136.74s/it]"
          ]
        },
        {
          "output_type": "stream",
          "name": "stdout",
          "text": [
            "Finished :/content/drive/MyDrive/The Colin and Samir Show/The one thing all successful creators have in common [Creator Support].mp3\n"
          ]
        },
        {
          "output_type": "stream",
          "name": "stderr",
          "text": [
            "\r 59%|█████▉    | 69/117 [2:00:46<1:35:09, 118.94s/it]"
          ]
        },
        {
          "output_type": "stream",
          "name": "stdout",
          "text": [
            "Finished :/content/drive/MyDrive/The Colin and Samir Show/How MrBeast crossed 100M subscribers and became the biggest YouTuber in the world.mp3\n"
          ]
        },
        {
          "output_type": "stream",
          "name": "stderr",
          "text": [
            "\r 60%|█████▉    | 70/117 [2:02:06<1:23:54, 107.12s/it]"
          ]
        },
        {
          "output_type": "stream",
          "name": "stdout",
          "text": [
            "Finished :/content/drive/MyDrive/The Colin and Samir Show/How to make challenge videos if you can’t give away $1 million [Creator Support].mp3\n"
          ]
        },
        {
          "output_type": "stream",
          "name": "stderr",
          "text": [
            "\r 61%|██████    | 71/117 [2:03:28<1:16:20, 99.57s/it] "
          ]
        },
        {
          "output_type": "stream",
          "name": "stdout",
          "text": [
            "Finished :/content/drive/MyDrive/The Colin and Samir Show/How Flagrant’s Andrew Schulz fixed the biggest problem in comedy.mp3\n"
          ]
        },
        {
          "output_type": "stream",
          "name": "stderr",
          "text": [
            "\r 62%|██████▏   | 72/117 [2:05:05<1:14:16, 99.03s/it]"
          ]
        },
        {
          "output_type": "stream",
          "name": "stdout",
          "text": [
            "Finished :/content/drive/MyDrive/The Colin and Samir Show/Why it's so hard to hire a good editor [Creator Support].mp3\n"
          ]
        },
        {
          "output_type": "stream",
          "name": "stderr",
          "text": [
            "\r 62%|██████▏   | 73/117 [2:10:44<2:05:16, 170.84s/it]"
          ]
        },
        {
          "output_type": "stream",
          "name": "stdout",
          "text": [
            "Finished :/content/drive/MyDrive/The Colin and Samir Show/The nearly impossible job of managing MrBeast_ An interview with Reed Duchscher [Extended}.mp3\n"
          ]
        },
        {
          "output_type": "stream",
          "name": "stderr",
          "text": [
            "\r 63%|██████▎   | 74/117 [2:12:33<1:49:07, 152.27s/it]"
          ]
        },
        {
          "output_type": "stream",
          "name": "stdout",
          "text": [
            "Finished :/content/drive/MyDrive/The Colin and Samir Show/Addressing criticism from our audience [Creator Support].mp3\n"
          ]
        },
        {
          "output_type": "stream",
          "name": "stderr",
          "text": [
            "\r 64%|██████▍   | 75/117 [2:18:56<2:35:07, 221.61s/it]"
          ]
        },
        {
          "output_type": "stream",
          "name": "stdout",
          "text": [
            "Finished :/content/drive/MyDrive/The Colin and Samir Show/Cody Ko & Noel Miller on Quitting That's Cringe, Monetizing TMG, and Partying with Elon Musk [Extended].mp3\n"
          ]
        },
        {
          "output_type": "stream",
          "name": "stderr",
          "text": [
            "\r 65%|██████▍   | 76/117 [2:20:56<2:10:35, 191.10s/it]"
          ]
        },
        {
          "output_type": "stream",
          "name": "stdout",
          "text": [
            "Finished :/content/drive/MyDrive/The Colin and Samir Show/What to do when a video tanks [Creator Support].mp3\n"
          ]
        },
        {
          "output_type": "stream",
          "name": "stderr",
          "text": [
            "\r 66%|██████▌   | 77/117 [2:26:35<2:37:04, 235.61s/it]"
          ]
        },
        {
          "output_type": "stream",
          "name": "stdout",
          "text": [
            "Finished :/content/drive/MyDrive/The Colin and Samir Show/Why creators need a bucket list – our interview with Ben Nemtin.mp3\n"
          ]
        },
        {
          "output_type": "stream",
          "name": "stderr",
          "text": [
            "\r 67%|██████▋   | 78/117 [2:28:11<2:05:50, 193.60s/it]"
          ]
        },
        {
          "output_type": "stream",
          "name": "stdout",
          "text": [
            "Finished :/content/drive/MyDrive/The Colin and Samir Show/What the end of Instagram means for small businesses [Creator Support].mp3\n"
          ]
        },
        {
          "output_type": "stream",
          "name": "stderr",
          "text": [
            "\r 68%|██████▊   | 79/117 [2:31:45<2:06:24, 199.60s/it]"
          ]
        },
        {
          "output_type": "stream",
          "name": "stdout",
          "text": [
            "Finished :/content/drive/MyDrive/The Colin and Samir Show/How Rhett and Link Failed their way to 8 Billion Views on YouTube.mp3\n"
          ]
        },
        {
          "output_type": "stream",
          "name": "stderr",
          "text": [
            "\r 68%|██████▊   | 80/117 [2:33:53<1:49:50, 178.12s/it]"
          ]
        },
        {
          "output_type": "stream",
          "name": "stdout",
          "text": [
            "Finished :/content/drive/MyDrive/The Colin and Samir Show/What really happened at the MrBeast Burger opening.mp3\n"
          ]
        },
        {
          "output_type": "stream",
          "name": "stderr",
          "text": [
            "\r 69%|██████▉   | 81/117 [2:36:58<1:48:08, 180.23s/it]"
          ]
        },
        {
          "output_type": "stream",
          "name": "stdout",
          "text": [
            "Finished :/content/drive/MyDrive/The Colin and Samir Show/What creators can learn from professional athletes — our conversation with lacrosse star Paul Rabil.mp3\n"
          ]
        },
        {
          "output_type": "stream",
          "name": "stderr",
          "text": [
            "\r 70%|███████   | 82/117 [2:38:57<1:34:22, 161.78s/it]"
          ]
        },
        {
          "output_type": "stream",
          "name": "stdout",
          "text": [
            "Finished :/content/drive/MyDrive/The Colin and Samir Show/How we deal with jealousy [Creator Support].mp3\n"
          ]
        },
        {
          "output_type": "stream",
          "name": "stderr",
          "text": [
            "\r 71%|███████   | 83/117 [2:41:42<1:32:13, 162.76s/it]"
          ]
        },
        {
          "output_type": "stream",
          "name": "stdout",
          "text": [
            "Finished :/content/drive/MyDrive/The Colin and Samir Show/How Jarvis Johnson Quit His Job to Sit and Talk to Millions.mp3\n"
          ]
        },
        {
          "output_type": "stream",
          "name": "stderr",
          "text": [
            "\r 72%|███████▏  | 84/117 [2:43:37<1:21:39, 148.46s/it]"
          ]
        },
        {
          "output_type": "stream",
          "name": "stdout",
          "text": [
            "Finished :/content/drive/MyDrive/The Colin and Samir Show/How YouTube is about to change forever [Creator Support].mp3\n"
          ]
        },
        {
          "output_type": "stream",
          "name": "stderr",
          "text": [
            "\r 73%|███████▎  | 85/117 [2:45:11<1:10:33, 132.28s/it]"
          ]
        },
        {
          "output_type": "stream",
          "name": "stdout",
          "text": [
            "Finished :/content/drive/MyDrive/The Colin and Samir Show/The story behind Twitch's worst week ever.mp3\n"
          ]
        },
        {
          "output_type": "stream",
          "name": "stderr",
          "text": [
            "\r 74%|███████▎  | 86/117 [2:46:47<1:02:42, 121.39s/it]"
          ]
        },
        {
          "output_type": "stream",
          "name": "stdout",
          "text": [
            "Finished :/content/drive/MyDrive/The Colin and Samir Show/Our response to getting copied on YouTube [Creator Support].mp3\n"
          ]
        },
        {
          "output_type": "stream",
          "name": "stderr",
          "text": [
            "\r 74%|███████▍  | 87/117 [2:52:25<1:33:10, 186.35s/it]"
          ]
        },
        {
          "output_type": "stream",
          "name": "stdout",
          "text": [
            "Finished :/content/drive/MyDrive/The Colin and Samir Show/How to develop discipline_ A conversation with Ryan Holiday.mp3\n"
          ]
        },
        {
          "output_type": "stream",
          "name": "stderr",
          "text": [
            "\r 75%|███████▌  | 88/117 [2:54:27<1:20:41, 166.96s/it]"
          ]
        },
        {
          "output_type": "stream",
          "name": "stdout",
          "text": [
            "Finished :/content/drive/MyDrive/The Colin and Samir Show/How it actually felt to cross 1 million subscribers [Creator Support].mp3\n"
          ]
        },
        {
          "output_type": "stream",
          "name": "stderr",
          "text": [
            "\r 76%|███████▌  | 89/117 [2:57:56<1:23:45, 179.50s/it]"
          ]
        },
        {
          "output_type": "stream",
          "name": "stdout",
          "text": [
            "Finished :/content/drive/MyDrive/The Colin and Samir Show/Lessons from a Master Storyteller_ Hasan Minhaj.mp3\n"
          ]
        },
        {
          "output_type": "stream",
          "name": "stderr",
          "text": [
            "\r 77%|███████▋  | 90/117 [2:59:30<1:09:17, 153.96s/it]"
          ]
        },
        {
          "output_type": "stream",
          "name": "stdout",
          "text": [
            "Finished :/content/drive/MyDrive/The Colin and Samir Show/How to make a comeback on YouTube [Creator Support].mp3\n"
          ]
        },
        {
          "output_type": "stream",
          "name": "stderr",
          "text": [
            "\r 78%|███████▊  | 91/117 [3:01:32<1:02:37, 144.51s/it]"
          ]
        },
        {
          "output_type": "stream",
          "name": "stdout",
          "text": [
            "Finished :/content/drive/MyDrive/The Colin and Samir Show/What a YouTube producer actually does [Creator Support].mp3\n"
          ]
        },
        {
          "output_type": "stream",
          "name": "stderr",
          "text": [
            "\r 79%|███████▊  | 92/117 [3:02:16<47:39, 114.38s/it]  "
          ]
        },
        {
          "output_type": "stream",
          "name": "stdout",
          "text": [
            "Finished :/content/drive/MyDrive/The Colin and Samir Show/3 genius strategies Dream used to get 31 million subscribers.mp3\n"
          ]
        },
        {
          "output_type": "stream",
          "name": "stderr",
          "text": [
            "\r 79%|███████▉  | 93/117 [3:04:24<47:19, 118.31s/it]"
          ]
        },
        {
          "output_type": "stream",
          "name": "stdout",
          "text": [
            "Finished :/content/drive/MyDrive/The Colin and Samir Show/4 predictions for the future of the creator economy [Creator Support].mp3\n"
          ]
        },
        {
          "output_type": "stream",
          "name": "stderr",
          "text": [
            "\r 80%|████████  | 94/117 [3:06:27<45:51, 119.62s/it]"
          ]
        },
        {
          "output_type": "stream",
          "name": "stdout",
          "text": [
            "Finished :/content/drive/MyDrive/The Colin and Samir Show/Our thoughts on Elon Musk's Twitter [Creator Support].mp3\n"
          ]
        },
        {
          "output_type": "stream",
          "name": "stderr",
          "text": [
            "\r 81%|████████  | 95/117 [3:08:39<45:16, 123.50s/it]"
          ]
        },
        {
          "output_type": "stream",
          "name": "stdout",
          "text": [
            "Finished :/content/drive/MyDrive/The Colin and Samir Show/Inside the complicated business of Vlogging_ Interview with UrMomAshley.mp3\n"
          ]
        },
        {
          "output_type": "stream",
          "name": "stderr",
          "text": [
            "\r 82%|████████▏ | 96/117 [3:10:30<41:55, 119.77s/it]"
          ]
        },
        {
          "output_type": "stream",
          "name": "stdout",
          "text": [
            "Finished :/content/drive/MyDrive/The Colin and Samir Show/Why everyone is getting fired in the Creator Economy.mp3\n"
          ]
        },
        {
          "output_type": "stream",
          "name": "stderr",
          "text": [
            "\r 83%|████████▎ | 97/117 [3:14:15<50:27, 151.38s/it]"
          ]
        },
        {
          "output_type": "stream",
          "name": "stdout",
          "text": [
            "Finished :/content/drive/MyDrive/The Colin and Samir Show/The Making of our MrBeast Burger Documentary.mp3\n"
          ]
        },
        {
          "output_type": "stream",
          "name": "stderr",
          "text": [
            "\r 84%|████████▍ | 98/117 [3:16:25<45:51, 144.83s/it]"
          ]
        },
        {
          "output_type": "stream",
          "name": "stdout",
          "text": [
            "Finished :/content/drive/MyDrive/The Colin and Samir Show/What FTX's collapse means for creators [Creator Support].mp3\n"
          ]
        },
        {
          "output_type": "stream",
          "name": "stderr",
          "text": [
            "\r 85%|████████▍ | 99/117 [3:18:56<43:58, 146.58s/it]"
          ]
        },
        {
          "output_type": "stream",
          "name": "stdout",
          "text": [
            "Finished :/content/drive/MyDrive/The Colin and Samir Show/Making sense of Elon Musk's Twitter.mp3\n"
          ]
        },
        {
          "output_type": "stream",
          "name": "stderr",
          "text": [
            "\r 85%|████████▌ | 100/117 [3:21:02<39:48, 140.48s/it]"
          ]
        },
        {
          "output_type": "stream",
          "name": "stdout",
          "text": [
            "Finished :/content/drive/MyDrive/The Colin and Samir Show/The Cure for Loneliness as a Creator [Creator Support].mp3\n"
          ]
        },
        {
          "output_type": "stream",
          "name": "stderr",
          "text": [
            "\r 86%|████████▋ | 101/117 [3:24:09<41:09, 154.35s/it]"
          ]
        },
        {
          "output_type": "stream",
          "name": "stdout",
          "text": [
            "Finished :/content/drive/MyDrive/The Colin and Samir Show/The Full Story of Mark Rober.mp3\n"
          ]
        },
        {
          "output_type": "stream",
          "name": "stderr",
          "text": [
            "\r 87%|████████▋ | 102/117 [3:26:46<38:48, 155.26s/it]"
          ]
        },
        {
          "output_type": "stream",
          "name": "stdout",
          "text": [
            "Finished :/content/drive/MyDrive/The Colin and Samir Show/We lost.mp3\n"
          ]
        },
        {
          "output_type": "stream",
          "name": "stderr",
          "text": [
            "\r 88%|████████▊ | 103/117 [3:29:46<37:56, 162.60s/it]"
          ]
        },
        {
          "output_type": "stream",
          "name": "stdout",
          "text": [
            "Finished :/content/drive/MyDrive/The Colin and Samir Show/Year in Review_ Analyzing YouTube's Top 10 moments of 2022.mp3\n"
          ]
        },
        {
          "output_type": "stream",
          "name": "stderr",
          "text": [
            "\r 89%|████████▉ | 104/117 [3:31:37<31:55, 147.33s/it]"
          ]
        },
        {
          "output_type": "stream",
          "name": "stdout",
          "text": [
            "Finished :/content/drive/MyDrive/The Colin and Samir Show/Predicting the impact of AI on creators.mp3\n"
          ]
        },
        {
          "output_type": "stream",
          "name": "stderr",
          "text": [
            "\r 90%|████████▉ | 105/117 [3:34:15<30:05, 150.44s/it]"
          ]
        },
        {
          "output_type": "stream",
          "name": "stdout",
          "text": [
            "Finished :/content/drive/MyDrive/The Colin and Samir Show/The future of Twitter without Elon Musk.mp3\n"
          ]
        },
        {
          "output_type": "stream",
          "name": "stderr",
          "text": [
            "\r 91%|█████████ | 106/117 [3:37:24<29:42, 162.07s/it]"
          ]
        },
        {
          "output_type": "stream",
          "name": "stdout",
          "text": [
            "Finished :/content/drive/MyDrive/The Colin and Samir Show/Our conversation with Elon Musk.mp3\n"
          ]
        },
        {
          "output_type": "stream",
          "name": "stderr",
          "text": [
            "\r 91%|█████████▏| 107/117 [3:39:42<25:49, 154.92s/it]"
          ]
        },
        {
          "output_type": "stream",
          "name": "stdout",
          "text": [
            "Finished :/content/drive/MyDrive/The Colin and Samir Show/What happens when a creator gets cancelled.mp3\n"
          ]
        },
        {
          "output_type": "stream",
          "name": "stderr",
          "text": [
            "\r 92%|█████████▏| 108/117 [3:43:37<26:48, 178.67s/it]"
          ]
        },
        {
          "output_type": "stream",
          "name": "stdout",
          "text": [
            "Finished :/content/drive/MyDrive/The Colin and Samir Show/How Caleb Simpson Mastered YouTube Shorts.mp3\n"
          ]
        },
        {
          "output_type": "stream",
          "name": "stderr",
          "text": [
            "\r 93%|█████████▎| 109/117 [3:45:48<21:55, 164.39s/it]"
          ]
        },
        {
          "output_type": "stream",
          "name": "stdout",
          "text": [
            "Finished :/content/drive/MyDrive/The Colin and Samir Show/3 Things We Learned from 3 Brilliant People.mp3\n"
          ]
        },
        {
          "output_type": "stream",
          "name": "stderr",
          "text": [
            "\r 94%|█████████▍| 110/117 [3:48:21<18:46, 160.97s/it]"
          ]
        },
        {
          "output_type": "stream",
          "name": "stdout",
          "text": [
            "Finished :/content/drive/MyDrive/The Colin and Samir Show/Why YouTube paid us $268,016.60 in 2022.mp3\n"
          ]
        },
        {
          "output_type": "stream",
          "name": "stderr",
          "text": [
            "\r 95%|█████████▍| 111/117 [3:52:13<18:14, 182.38s/it]"
          ]
        },
        {
          "output_type": "stream",
          "name": "stdout",
          "text": [
            "Finished :/content/drive/MyDrive/The Colin and Samir Show/We interviewed YouTube employees about Shorts monetization.mp3\n"
          ]
        },
        {
          "output_type": "stream",
          "name": "stderr",
          "text": [
            "\r 96%|█████████▌| 112/117 [3:54:09<13:32, 162.44s/it]"
          ]
        },
        {
          "output_type": "stream",
          "name": "stdout",
          "text": [
            "Finished :/content/drive/MyDrive/The Colin and Samir Show/How much YouTubers charge for collaborations.mp3\n"
          ]
        },
        {
          "output_type": "stream",
          "name": "stderr",
          "text": [
            "\r 97%|█████████▋| 113/117 [3:56:04<09:52, 148.25s/it]"
          ]
        },
        {
          "output_type": "stream",
          "name": "stdout",
          "text": [
            "Finished :/content/drive/MyDrive/The Colin and Samir Show/The problem with copying on YouTube.mp3\n"
          ]
        },
        {
          "output_type": "stream",
          "name": "stderr",
          "text": [
            "\r 97%|█████████▋| 114/117 [3:58:06<07:00, 140.29s/it]"
          ]
        },
        {
          "output_type": "stream",
          "name": "stdout",
          "text": [
            "Finished :/content/drive/MyDrive/The Colin and Samir Show/What YouTube's CEO stepping down means for creators.mp3\n"
          ]
        },
        {
          "output_type": "stream",
          "name": "stderr",
          "text": [
            "\r 98%|█████████▊| 115/117 [4:00:14<04:33, 136.64s/it]"
          ]
        },
        {
          "output_type": "stream",
          "name": "stdout",
          "text": [
            "Finished :/content/drive/MyDrive/The Colin and Samir Show/Should you work for a YouTuber_.mp3\n"
          ]
        },
        {
          "output_type": "stream",
          "name": "stderr",
          "text": [
            "\r 99%|█████████▉| 116/117 [4:02:33<02:17, 137.36s/it]"
          ]
        },
        {
          "output_type": "stream",
          "name": "stdout",
          "text": [
            "Finished :/content/drive/MyDrive/The Colin and Samir Show/How Kai Cenat became the King of Twitch.mp3\n"
          ]
        },
        {
          "output_type": "stream",
          "name": "stderr",
          "text": [
            "100%|██████████| 117/117 [4:04:41<00:00, 125.48s/it]"
          ]
        },
        {
          "output_type": "stream",
          "name": "stdout",
          "text": [
            "Finished :/content/drive/MyDrive/The Colin and Samir Show/Why YouTubers were better in 2017.mp3\n"
          ]
        },
        {
          "output_type": "stream",
          "name": "stderr",
          "text": [
            "\n"
          ]
        }
      ]
    },
    {
      "cell_type": "code",
      "source": [],
      "metadata": {
        "id": "zU0_89so2dM6"
      },
      "execution_count": null,
      "outputs": []
    }
  ]
}