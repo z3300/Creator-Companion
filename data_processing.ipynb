{
  "cells": [
    {
      "cell_type": "code",
      "execution_count": null,
      "metadata": {
        "id": "c95_mM3i8pvM"
      },
      "outputs": [],
      "source": [
        "import pysrt\n",
        "import pandas\n",
        "import os\n",
        "from langchain.document_loaders import SRTLoader\n",
        "import openai\n",
        "import pinecone\n",
        "import tiktoken\n",
        "from langchain.text_splitter import RecursiveCharacterTextSplitter\n",
        "from uuid import uuid4\n",
        "from tqdm.auto import tqdm\n",
        "import datetime\n",
        "from time import sleep\n",
        "\n"
      ]
    },
    {
      "attachments": {},
      "cell_type": "markdown",
      "metadata": {},
      "source": [
        "## Loading Subtitle Files into Langchain Documents"
      ]
    },
    {
      "cell_type": "code",
      "execution_count": null,
      "metadata": {
        "id": "3IuRyeDN6GGT"
      },
      "outputs": [],
      "source": [
        "loader = SRTLoader(\"transcripts/Behind the Scenes of Yes Theory ft Thomas Dajer.srt\")\n",
        "doc = loader.load()"
      ]
    },
    {
      "cell_type": "code",
      "execution_count": null,
      "metadata": {
        "id": "_q02i9Uf61oN"
      },
      "outputs": [],
      "source": [
        "#Load in all the transcripts into langchain documents\n",
        "direct = \"path/to/transcripts\"\n",
        "docs = []\n",
        "for filename in os.listdir(direct):\n",
        "  full_path = direct + '/' + filename\n",
        "  title = os.path.splitext(filename)[0]\n",
        "  loader = SRTLoader(full_path)\n",
        "  result = loader.load()\n",
        "  result[0].metadata[\"name\"] = title\n",
        "  docs.extend(result)"
      ]
    },
    {
      "cell_type": "code",
      "execution_count": null,
      "metadata": {
        "colab": {
          "base_uri": "https://localhost:8080/"
        },
        "id": "2uF564KyJT-x",
        "outputId": "d89ebd77-b337-4088-8381-b4b6433c804c"
      },
      "outputs": [
        {
          "data": {
            "text/plain": [
              "199"
            ]
          },
          "execution_count": 7,
          "metadata": {},
          "output_type": "execute_result"
        }
      ],
      "source": [
        "#Number of Podcast Episodes\n",
        "len(docs)"
      ]
    },
    {
      "attachments": {},
      "cell_type": "markdown",
      "metadata": {},
      "source": [
        "## Splitting the Documents into Chunks"
      ]
    },
    {
      "cell_type": "code",
      "execution_count": null,
      "metadata": {
        "id": "T5BI3AE3JFFH"
      },
      "outputs": [],
      "source": [
        "import tiktoken\n",
        "\n",
        "tokenizer = tiktoken.get_encoding('cl100k_base') # OpenAI's token calulation function\n",
        "\n",
        "# create the length function\n",
        "def tiktoken_len(text):\n",
        "    tokens = tokenizer.encode(\n",
        "        text,\n",
        "        disallowed_special=()\n",
        "    )\n",
        "    return len(tokens)"
      ]
    },
    {
      "cell_type": "code",
      "execution_count": null,
      "metadata": {
        "colab": {
          "base_uri": "https://localhost:8080/"
        },
        "id": "V-N6msw_JT8v",
        "outputId": "8e792bb3-a1b2-485b-ea92-e5f4eb6a4915"
      },
      "outputs": [
        {
          "name": "stdout",
          "output_type": "stream",
          "text": [
            "16968\n"
          ]
        }
      ],
      "source": [
        "leng = tiktoken_len(docs[10].page_content)\n",
        "#number of tokens within a document\n",
        "print(leng)"
      ]
    },
    {
      "cell_type": "code",
      "execution_count": null,
      "metadata": {
        "id": "txVHQ3Y1Je_u"
      },
      "outputs": [],
      "source": [
        "#Splitting the documents based on chunk size\n",
        "text_splitter = RecursiveCharacterTextSplitter(\n",
        "    chunk_size=250,\n",
        "    chunk_overlap=25,  # number of tokens overlap between chunks\n",
        "    length_function=tiktoken_len,\n",
        "    separators=['.', '?',\" \",\"\"]\n",
        ")"
      ]
    },
    {
      "cell_type": "code",
      "execution_count": null,
      "metadata": {
        "colab": {
          "base_uri": "https://localhost:8080/"
        },
        "id": "BwqJecGoBpKW",
        "outputId": "3485e9fb-1c89-435a-e500-d7cbdaed7287"
      },
      "outputs": [
        {
          "data": {
            "text/plain": [
              "80392"
            ]
          },
          "execution_count": 118,
          "metadata": {},
          "output_type": "execute_result"
        }
      ],
      "source": [
        "len(docs[10].page_content)"
      ]
    },
    {
      "cell_type": "code",
      "execution_count": null,
      "metadata": {
        "colab": {
          "base_uri": "https://localhost:8080/",
          "height": 49,
          "referenced_widgets": [
            "6f40fd7c0890495390f5dd07a44f7498",
            "68d24a6de28445d18cc566bc2fdd1d73",
            "aa89570fb1ba48c4b688bc20273c4520",
            "9672c897e0784a42807b8c6a552988b6",
            "0c7ded11878a41339f41e4de69508bd6",
            "b12bcef99e994aab960df1b2272cf489",
            "74742b6c84734a84bf4a40339b7c7586",
            "99cc2a4399024a8ebacfa1fa9baa50eb",
            "b4661c2fc04743ccb7b7ac092ea69459",
            "250a72f8d7194783b0eb15823d7b6c04",
            "5341572924b8447ea00b3fc8272e4469"
          ]
        },
        "id": "Qj-MijW2P8_I",
        "outputId": "1809a2f8-4bd0-4f38-bf89-bad01e37bc2a"
      },
      "outputs": [],
      "source": [
        "#Split all of chunks and format them into dictionary\n",
        "chunks = []\n",
        "\n",
        "for idx, record in enumerate(tqdm(docs[1:])):\n",
        "    texts = text_splitter.split_text(record.page_content)\n",
        "    chunks.extend([{\n",
        "        'id': str(uuid4()), #unique id to each chunk\n",
        "        'text': texts[i],\n",
        "        'chunk': i,\n",
        "        'name': record.metadata['name'] #title of podcast\n",
        "    } for i in range(len(texts))])\n",
        "     "
      ]
    },
    {
      "cell_type": "code",
      "execution_count": null,
      "metadata": {
        "colab": {
          "base_uri": "https://localhost:8080/"
        },
        "id": "UcsuFgMLAe-Y",
        "outputId": "140ccbc7-b776-4b3f-9c07-b7c10bd520a6"
      },
      "outputs": [
        {
          "data": {
            "text/plain": [
              "{'id': 'a5c12d75-17eb-4efc-8d51-89d2f7b31937',\n",
              " 'text': \"Hey podcast listeners, it's Samir. I want to tell you about a company that's supporting the show this year, Spotter. Spotter has paid out $740 million to creators like MrBeast destroying Dude Perfect, Airac, and 400 more through catalog licensing deals. Their goal is to accelerate creators through capital and knowledge. So if you want to learn more about Spotter and the work that we're doing with them this year, go to spotter.com slash Colin and Samir. All right, enjoy the show. Hey podcast listeners, this is not a full episode. Colin and I are both still on break, but we did want to ask you for your help. Launching this podcast has been such an amazing experience, and a lot of that has to do with all of you. All the messages, emails, tweets, and reviews we get really help us understand the type of community we're building, and honestly, this is something we've always wanted. A community of like-minded and thoughtful individuals. So going into the new year as we reflect and think about where to take the show next, we want your input. We put together a short feedback survey on our website\",\n",
              " 'chunk': 0,\n",
              " 'name': 'We want your feedback'}"
            ]
          },
          "execution_count": 13,
          "metadata": {},
          "output_type": "execute_result"
        }
      ],
      "source": [
        "chunks[0].text"
      ]
    },
    {
      "attachments": {},
      "cell_type": "markdown",
      "metadata": {},
      "source": [
        "## Embedding text and Upserting Data to Pinecone"
      ]
    },
    {
      "cell_type": "code",
      "execution_count": null,
      "metadata": {},
      "outputs": [],
      "source": [
        "\n",
        "# Connecting to OpenAI\n",
        "openai.api_key = \"API-KEY\"  #platform.openai.com\n",
        "\n",
        "embed_model = \"text-embedding-ada-002\" \n",
        "\n",
        "#example Emedding\n",
        "res = openai.Embedding.create(\n",
        "    input=[\n",
        "        \"Sample document text goes here\",\n",
        "        \"there will be several phrases in each batch\"\n",
        "    ], engine=embed_model\n",
        ")\n",
        "     "
      ]
    },
    {
      "cell_type": "code",
      "execution_count": null,
      "metadata": {},
      "outputs": [],
      "source": [
        "#Connecting to Pinecone Index\n",
        "index_name = 'colinsamir'\n",
        "\n",
        "# initialize connection to pinecone\n",
        "pinecone.init(\n",
        "    api_key=\"API-KEY\",  # app.pinecone.io (console)\n",
        "    environment=\"Location\"  # next to API key in console\n",
        ")\n",
        "\n",
        "# check if index already exists\n",
        "if index_name not in pinecone.list_indexes():\n",
        "    # if does not exist, create index\n",
        "    pinecone.create_index(\n",
        "        index_name,\n",
        "        dimension=len(res['data'][0]['embedding']),\n",
        "        metric='dotproduct'\n",
        "    )\n",
        "# connect to index\n",
        "index = pinecone.GRPCIndex(index_name)\n",
        "# view index stats\n",
        "index.describe_index_stats()\n"
      ]
    },
    {
      "cell_type": "code",
      "execution_count": null,
      "metadata": {
        "colab": {
          "base_uri": "https://localhost:8080/",
          "height": 49,
          "referenced_widgets": [
            "49c4198cd54d4222bc071c1d2f2b4ce7",
            "c54ed7d05ab44ba298f1f0ed9f7660be",
            "7622c331e6e84cb4abc2ed102c2de4ab",
            "9e7de5049cd14b91b997ac2c960d21d1",
            "d1e4c5953437450da20f482e152f90e9",
            "0102277d45ff4773b7247254deced935",
            "048b44a29c444cf593f64812415202f9",
            "7234a8a9eb4140b5b706b78f896b627c",
            "d5c1b53c39ad429585bd1226b95f1c14",
            "02bcd4aacf854d69821fdebb5961646f",
            "13e68ac10dcc41b99422dd1da76821c0"
          ]
        },
        "id": "-a8CA0TtMZRC",
        "outputId": "c2d91aa0-198d-40b8-ff92-a7962bf6ea19"
      },
      "outputs": [
        {
          "data": {
            "application/vnd.jupyter.widget-view+json": {
              "model_id": "49c4198cd54d4222bc071c1d2f2b4ce7",
              "version_major": 2,
              "version_minor": 0
            },
            "text/plain": [
              "  0%|          | 0/102 [00:00<?, ?it/s]"
            ]
          },
          "metadata": {},
          "output_type": "display_data"
        }
      ],
      "source": [
        "#Uploading batches of data into pinecone \n",
        "\n",
        "batch_size = 100  # how many embeddings we create and insert at once\n",
        "\n",
        "for i in tqdm(range(0, len(chunks), batch_size)):\n",
        "    # find end of batch\n",
        "    i_end = min(len(chunks), i+batch_size)\n",
        "    meta_batch = chunks[i:i_end]\n",
        "    # get ids\n",
        "    ids_batch = [x['id'] for x in meta_batch]\n",
        "    # get texts to encode\n",
        "    texts = [x['text'] for x in meta_batch]\n",
        "    # create embeddings (try-except added to avoid RateLimitError)\n",
        "    try:\n",
        "        res = openai.Embedding.create(input=texts, engine=embed_model)\n",
        "    except:\n",
        "        done = False\n",
        "        while not done:\n",
        "            sleep(5)\n",
        "            try:\n",
        "                res = openai.Embedding.create(input=texts, engine=embed_model)\n",
        "                done = True\n",
        "            except:\n",
        "                pass\n",
        "    embeds = [record['embedding'] for record in res['data']]\n",
        "    # cleanup metadata\n",
        "    meta_batch = [{\n",
        "        'text': x['text'],\n",
        "        'chunk': x['chunk'],\n",
        "        'name': x['name']\n",
        "    } for x in meta_batch]\n",
        "    to_upsert = list(zip(ids_batch, embeds, meta_batch))\n",
        "    # upsert to Pinecone\n",
        "    index.upsert(vectors=to_upsert)\n",
        "     "
      ]
    },
    {
      "attachments": {},
      "cell_type": "markdown",
      "metadata": {},
      "source": [
        "## Search Function"
      ]
    },
    {
      "cell_type": "code",
      "execution_count": null,
      "metadata": {
        "id": "DDId5HKnw8hC"
      },
      "outputs": [],
      "source": [
        "\n",
        "def creatorAI(query):\n",
        "  res = openai.Embedding.create( # 1. Embed user query\n",
        "    input=[query],\n",
        "    engine=embed_model\n",
        "  ) \n",
        "  xq = res['data'][0]['embedding']\n",
        "  res = index.query(xq, top_k=5, include_metadata=True) #2. Search Pinecone Database using Embed Query to find top 5 Results\n",
        "\n",
        "  contexts = [item['metadata']['text'] for item in res['matches']] \n",
        "\n",
        "  augmented_query = \"\\n\\n---\\n\\n\".join(contexts)+\"\\n\\n-----\\n\\n\"+query #Context + Query passed to LLM\n",
        "\n",
        "  # highly specfic instructions for the model to follow:\n",
        "  primer = f\"\"\"You are the Creative Companion, a highly sophisticated AI system \n",
        "  that is crucial for answering user questions based on the context supplied by the user above \n",
        "  each query about a podcast about digital media creation and the creator economy. \n",
        "  It is of utmost importance that if the necessary information \n",
        "  is not available within the user-provided context, you respond simply with 'I don't know.' \n",
        "  Your knowledge is derived from segments of a podcast called 'The Colin and Samir Podcast,' \n",
        "  which delves into the creator economy.\n",
        "\n",
        "  \"\"\"\n",
        "\n",
        "  res = openai.ChatCompletion.create( #Create the chat by passing in instructions and Contexts+Query\n",
        "      model=\"gpt-4\",\n",
        "      messages=[\n",
        "          {\"role\": \"system\", \"content\": primer},\n",
        "          {\"role\": \"user\", \"content\": augmented_query}\n",
        "      ],\n",
        "      temperature = .2\n",
        "  )\n",
        "\n",
        "  return display(Markdown(res['choices'][0]['message']['content'])) #Return the models response \n",
        "\n",
        "\n",
        "\n"
      ]
    },
    {
      "cell_type": "code",
      "execution_count": null,
      "metadata": {
        "colab": {
          "base_uri": "https://localhost:8080/",
          "height": 139
        },
        "id": "7_9UniVMSL3p",
        "outputId": "4f49f29c-d97b-4ef9-e55e-5a75fae11cf7"
      },
      "outputs": [
        {
          "data": {
            "text/markdown": [
              "Ludwig grew on Twitch by creating content on other platforms like YouTube and then bringing those audiences to his Twitch streams. As mentioned in the podcast, he said, \"You don't grow on Twitch. You grow on YouTube or you grow elsewhere. And then you bring people to Twitch.\" He also utilized the strategy of cutting up his Twitch streams and posting them on YouTube, which helped him gain more visibility and monetization.\n",
              "\n",
              "Ludwig decided to switch to YouTube because of the exclusive deals offered to creators and the potential for better monetization. He also appreciated the open communication between creators and YouTube executives, which allowed him to voice his concerns and suggestions for improvements on the platform. This level of engagement with creators seemed to be lacking on Twitch."
            ],
            "text/plain": [
              "<IPython.core.display.Markdown object>"
            ]
          },
          "metadata": {},
          "output_type": "display_data"
        }
      ],
      "source": [
        "creatorAI(\"How did ludwig grow on twitch and why did he switch to youtube?\")"
      ]
    },
    {
      "cell_type": "code",
      "execution_count": null,
      "metadata": {
        "id": "-iWY88ToxAr9"
      },
      "outputs": [],
      "source": []
    }
  ],
  "metadata": {
    "colab": {
      "provenance": []
    },
    "kernelspec": {
      "display_name": "Python 3",
      "name": "python3"
    },
    "language_info": {
      "name": "python"
    },
    "widgets": {
      "application/vnd.jupyter.widget-state+json": {
        "0102277d45ff4773b7247254deced935": {
          "model_module": "@jupyter-widgets/base",
          "model_module_version": "1.2.0",
          "model_name": "LayoutModel",
          "state": {
            "_model_module": "@jupyter-widgets/base",
            "_model_module_version": "1.2.0",
            "_model_name": "LayoutModel",
            "_view_count": null,
            "_view_module": "@jupyter-widgets/base",
            "_view_module_version": "1.2.0",
            "_view_name": "LayoutView",
            "align_content": null,
            "align_items": null,
            "align_self": null,
            "border": null,
            "bottom": null,
            "display": null,
            "flex": null,
            "flex_flow": null,
            "grid_area": null,
            "grid_auto_columns": null,
            "grid_auto_flow": null,
            "grid_auto_rows": null,
            "grid_column": null,
            "grid_gap": null,
            "grid_row": null,
            "grid_template_areas": null,
            "grid_template_columns": null,
            "grid_template_rows": null,
            "height": null,
            "justify_content": null,
            "justify_items": null,
            "left": null,
            "margin": null,
            "max_height": null,
            "max_width": null,
            "min_height": null,
            "min_width": null,
            "object_fit": null,
            "object_position": null,
            "order": null,
            "overflow": null,
            "overflow_x": null,
            "overflow_y": null,
            "padding": null,
            "right": null,
            "top": null,
            "visibility": null,
            "width": null
          }
        },
        "02bcd4aacf854d69821fdebb5961646f": {
          "model_module": "@jupyter-widgets/base",
          "model_module_version": "1.2.0",
          "model_name": "LayoutModel",
          "state": {
            "_model_module": "@jupyter-widgets/base",
            "_model_module_version": "1.2.0",
            "_model_name": "LayoutModel",
            "_view_count": null,
            "_view_module": "@jupyter-widgets/base",
            "_view_module_version": "1.2.0",
            "_view_name": "LayoutView",
            "align_content": null,
            "align_items": null,
            "align_self": null,
            "border": null,
            "bottom": null,
            "display": null,
            "flex": null,
            "flex_flow": null,
            "grid_area": null,
            "grid_auto_columns": null,
            "grid_auto_flow": null,
            "grid_auto_rows": null,
            "grid_column": null,
            "grid_gap": null,
            "grid_row": null,
            "grid_template_areas": null,
            "grid_template_columns": null,
            "grid_template_rows": null,
            "height": null,
            "justify_content": null,
            "justify_items": null,
            "left": null,
            "margin": null,
            "max_height": null,
            "max_width": null,
            "min_height": null,
            "min_width": null,
            "object_fit": null,
            "object_position": null,
            "order": null,
            "overflow": null,
            "overflow_x": null,
            "overflow_y": null,
            "padding": null,
            "right": null,
            "top": null,
            "visibility": null,
            "width": null
          }
        },
        "048b44a29c444cf593f64812415202f9": {
          "model_module": "@jupyter-widgets/controls",
          "model_module_version": "1.5.0",
          "model_name": "DescriptionStyleModel",
          "state": {
            "_model_module": "@jupyter-widgets/controls",
            "_model_module_version": "1.5.0",
            "_model_name": "DescriptionStyleModel",
            "_view_count": null,
            "_view_module": "@jupyter-widgets/base",
            "_view_module_version": "1.2.0",
            "_view_name": "StyleView",
            "description_width": ""
          }
        },
        "0c7ded11878a41339f41e4de69508bd6": {
          "model_module": "@jupyter-widgets/base",
          "model_module_version": "1.2.0",
          "model_name": "LayoutModel",
          "state": {
            "_model_module": "@jupyter-widgets/base",
            "_model_module_version": "1.2.0",
            "_model_name": "LayoutModel",
            "_view_count": null,
            "_view_module": "@jupyter-widgets/base",
            "_view_module_version": "1.2.0",
            "_view_name": "LayoutView",
            "align_content": null,
            "align_items": null,
            "align_self": null,
            "border": null,
            "bottom": null,
            "display": null,
            "flex": null,
            "flex_flow": null,
            "grid_area": null,
            "grid_auto_columns": null,
            "grid_auto_flow": null,
            "grid_auto_rows": null,
            "grid_column": null,
            "grid_gap": null,
            "grid_row": null,
            "grid_template_areas": null,
            "grid_template_columns": null,
            "grid_template_rows": null,
            "height": null,
            "justify_content": null,
            "justify_items": null,
            "left": null,
            "margin": null,
            "max_height": null,
            "max_width": null,
            "min_height": null,
            "min_width": null,
            "object_fit": null,
            "object_position": null,
            "order": null,
            "overflow": null,
            "overflow_x": null,
            "overflow_y": null,
            "padding": null,
            "right": null,
            "top": null,
            "visibility": null,
            "width": null
          }
        },
        "13e68ac10dcc41b99422dd1da76821c0": {
          "model_module": "@jupyter-widgets/controls",
          "model_module_version": "1.5.0",
          "model_name": "DescriptionStyleModel",
          "state": {
            "_model_module": "@jupyter-widgets/controls",
            "_model_module_version": "1.5.0",
            "_model_name": "DescriptionStyleModel",
            "_view_count": null,
            "_view_module": "@jupyter-widgets/base",
            "_view_module_version": "1.2.0",
            "_view_name": "StyleView",
            "description_width": ""
          }
        },
        "250a72f8d7194783b0eb15823d7b6c04": {
          "model_module": "@jupyter-widgets/base",
          "model_module_version": "1.2.0",
          "model_name": "LayoutModel",
          "state": {
            "_model_module": "@jupyter-widgets/base",
            "_model_module_version": "1.2.0",
            "_model_name": "LayoutModel",
            "_view_count": null,
            "_view_module": "@jupyter-widgets/base",
            "_view_module_version": "1.2.0",
            "_view_name": "LayoutView",
            "align_content": null,
            "align_items": null,
            "align_self": null,
            "border": null,
            "bottom": null,
            "display": null,
            "flex": null,
            "flex_flow": null,
            "grid_area": null,
            "grid_auto_columns": null,
            "grid_auto_flow": null,
            "grid_auto_rows": null,
            "grid_column": null,
            "grid_gap": null,
            "grid_row": null,
            "grid_template_areas": null,
            "grid_template_columns": null,
            "grid_template_rows": null,
            "height": null,
            "justify_content": null,
            "justify_items": null,
            "left": null,
            "margin": null,
            "max_height": null,
            "max_width": null,
            "min_height": null,
            "min_width": null,
            "object_fit": null,
            "object_position": null,
            "order": null,
            "overflow": null,
            "overflow_x": null,
            "overflow_y": null,
            "padding": null,
            "right": null,
            "top": null,
            "visibility": null,
            "width": null
          }
        },
        "49c4198cd54d4222bc071c1d2f2b4ce7": {
          "model_module": "@jupyter-widgets/controls",
          "model_module_version": "1.5.0",
          "model_name": "HBoxModel",
          "state": {
            "_dom_classes": [],
            "_model_module": "@jupyter-widgets/controls",
            "_model_module_version": "1.5.0",
            "_model_name": "HBoxModel",
            "_view_count": null,
            "_view_module": "@jupyter-widgets/controls",
            "_view_module_version": "1.5.0",
            "_view_name": "HBoxView",
            "box_style": "",
            "children": [
              "IPY_MODEL_c54ed7d05ab44ba298f1f0ed9f7660be",
              "IPY_MODEL_7622c331e6e84cb4abc2ed102c2de4ab",
              "IPY_MODEL_9e7de5049cd14b91b997ac2c960d21d1"
            ],
            "layout": "IPY_MODEL_d1e4c5953437450da20f482e152f90e9"
          }
        },
        "5341572924b8447ea00b3fc8272e4469": {
          "model_module": "@jupyter-widgets/controls",
          "model_module_version": "1.5.0",
          "model_name": "DescriptionStyleModel",
          "state": {
            "_model_module": "@jupyter-widgets/controls",
            "_model_module_version": "1.5.0",
            "_model_name": "DescriptionStyleModel",
            "_view_count": null,
            "_view_module": "@jupyter-widgets/base",
            "_view_module_version": "1.2.0",
            "_view_name": "StyleView",
            "description_width": ""
          }
        },
        "68d24a6de28445d18cc566bc2fdd1d73": {
          "model_module": "@jupyter-widgets/controls",
          "model_module_version": "1.5.0",
          "model_name": "HTMLModel",
          "state": {
            "_dom_classes": [],
            "_model_module": "@jupyter-widgets/controls",
            "_model_module_version": "1.5.0",
            "_model_name": "HTMLModel",
            "_view_count": null,
            "_view_module": "@jupyter-widgets/controls",
            "_view_module_version": "1.5.0",
            "_view_name": "HTMLView",
            "description": "",
            "description_tooltip": null,
            "layout": "IPY_MODEL_b12bcef99e994aab960df1b2272cf489",
            "placeholder": "​",
            "style": "IPY_MODEL_74742b6c84734a84bf4a40339b7c7586",
            "value": "100%"
          }
        },
        "6f40fd7c0890495390f5dd07a44f7498": {
          "model_module": "@jupyter-widgets/controls",
          "model_module_version": "1.5.0",
          "model_name": "HBoxModel",
          "state": {
            "_dom_classes": [],
            "_model_module": "@jupyter-widgets/controls",
            "_model_module_version": "1.5.0",
            "_model_name": "HBoxModel",
            "_view_count": null,
            "_view_module": "@jupyter-widgets/controls",
            "_view_module_version": "1.5.0",
            "_view_name": "HBoxView",
            "box_style": "",
            "children": [
              "IPY_MODEL_68d24a6de28445d18cc566bc2fdd1d73",
              "IPY_MODEL_aa89570fb1ba48c4b688bc20273c4520",
              "IPY_MODEL_9672c897e0784a42807b8c6a552988b6"
            ],
            "layout": "IPY_MODEL_0c7ded11878a41339f41e4de69508bd6"
          }
        },
        "7234a8a9eb4140b5b706b78f896b627c": {
          "model_module": "@jupyter-widgets/base",
          "model_module_version": "1.2.0",
          "model_name": "LayoutModel",
          "state": {
            "_model_module": "@jupyter-widgets/base",
            "_model_module_version": "1.2.0",
            "_model_name": "LayoutModel",
            "_view_count": null,
            "_view_module": "@jupyter-widgets/base",
            "_view_module_version": "1.2.0",
            "_view_name": "LayoutView",
            "align_content": null,
            "align_items": null,
            "align_self": null,
            "border": null,
            "bottom": null,
            "display": null,
            "flex": null,
            "flex_flow": null,
            "grid_area": null,
            "grid_auto_columns": null,
            "grid_auto_flow": null,
            "grid_auto_rows": null,
            "grid_column": null,
            "grid_gap": null,
            "grid_row": null,
            "grid_template_areas": null,
            "grid_template_columns": null,
            "grid_template_rows": null,
            "height": null,
            "justify_content": null,
            "justify_items": null,
            "left": null,
            "margin": null,
            "max_height": null,
            "max_width": null,
            "min_height": null,
            "min_width": null,
            "object_fit": null,
            "object_position": null,
            "order": null,
            "overflow": null,
            "overflow_x": null,
            "overflow_y": null,
            "padding": null,
            "right": null,
            "top": null,
            "visibility": null,
            "width": null
          }
        },
        "74742b6c84734a84bf4a40339b7c7586": {
          "model_module": "@jupyter-widgets/controls",
          "model_module_version": "1.5.0",
          "model_name": "DescriptionStyleModel",
          "state": {
            "_model_module": "@jupyter-widgets/controls",
            "_model_module_version": "1.5.0",
            "_model_name": "DescriptionStyleModel",
            "_view_count": null,
            "_view_module": "@jupyter-widgets/base",
            "_view_module_version": "1.2.0",
            "_view_name": "StyleView",
            "description_width": ""
          }
        },
        "7622c331e6e84cb4abc2ed102c2de4ab": {
          "model_module": "@jupyter-widgets/controls",
          "model_module_version": "1.5.0",
          "model_name": "FloatProgressModel",
          "state": {
            "_dom_classes": [],
            "_model_module": "@jupyter-widgets/controls",
            "_model_module_version": "1.5.0",
            "_model_name": "FloatProgressModel",
            "_view_count": null,
            "_view_module": "@jupyter-widgets/controls",
            "_view_module_version": "1.5.0",
            "_view_name": "ProgressView",
            "bar_style": "success",
            "description": "",
            "description_tooltip": null,
            "layout": "IPY_MODEL_7234a8a9eb4140b5b706b78f896b627c",
            "max": 102,
            "min": 0,
            "orientation": "horizontal",
            "style": "IPY_MODEL_d5c1b53c39ad429585bd1226b95f1c14",
            "value": 102
          }
        },
        "9672c897e0784a42807b8c6a552988b6": {
          "model_module": "@jupyter-widgets/controls",
          "model_module_version": "1.5.0",
          "model_name": "HTMLModel",
          "state": {
            "_dom_classes": [],
            "_model_module": "@jupyter-widgets/controls",
            "_model_module_version": "1.5.0",
            "_model_name": "HTMLModel",
            "_view_count": null,
            "_view_module": "@jupyter-widgets/controls",
            "_view_module_version": "1.5.0",
            "_view_name": "HTMLView",
            "description": "",
            "description_tooltip": null,
            "layout": "IPY_MODEL_250a72f8d7194783b0eb15823d7b6c04",
            "placeholder": "​",
            "style": "IPY_MODEL_5341572924b8447ea00b3fc8272e4469",
            "value": " 198/198 [00:11&lt;00:00, 20.50it/s]"
          }
        },
        "99cc2a4399024a8ebacfa1fa9baa50eb": {
          "model_module": "@jupyter-widgets/base",
          "model_module_version": "1.2.0",
          "model_name": "LayoutModel",
          "state": {
            "_model_module": "@jupyter-widgets/base",
            "_model_module_version": "1.2.0",
            "_model_name": "LayoutModel",
            "_view_count": null,
            "_view_module": "@jupyter-widgets/base",
            "_view_module_version": "1.2.0",
            "_view_name": "LayoutView",
            "align_content": null,
            "align_items": null,
            "align_self": null,
            "border": null,
            "bottom": null,
            "display": null,
            "flex": null,
            "flex_flow": null,
            "grid_area": null,
            "grid_auto_columns": null,
            "grid_auto_flow": null,
            "grid_auto_rows": null,
            "grid_column": null,
            "grid_gap": null,
            "grid_row": null,
            "grid_template_areas": null,
            "grid_template_columns": null,
            "grid_template_rows": null,
            "height": null,
            "justify_content": null,
            "justify_items": null,
            "left": null,
            "margin": null,
            "max_height": null,
            "max_width": null,
            "min_height": null,
            "min_width": null,
            "object_fit": null,
            "object_position": null,
            "order": null,
            "overflow": null,
            "overflow_x": null,
            "overflow_y": null,
            "padding": null,
            "right": null,
            "top": null,
            "visibility": null,
            "width": null
          }
        },
        "9e7de5049cd14b91b997ac2c960d21d1": {
          "model_module": "@jupyter-widgets/controls",
          "model_module_version": "1.5.0",
          "model_name": "HTMLModel",
          "state": {
            "_dom_classes": [],
            "_model_module": "@jupyter-widgets/controls",
            "_model_module_version": "1.5.0",
            "_model_name": "HTMLModel",
            "_view_count": null,
            "_view_module": "@jupyter-widgets/controls",
            "_view_module_version": "1.5.0",
            "_view_name": "HTMLView",
            "description": "",
            "description_tooltip": null,
            "layout": "IPY_MODEL_02bcd4aacf854d69821fdebb5961646f",
            "placeholder": "​",
            "style": "IPY_MODEL_13e68ac10dcc41b99422dd1da76821c0",
            "value": " 102/102 [01:34&lt;00:00,  1.10it/s]"
          }
        },
        "aa89570fb1ba48c4b688bc20273c4520": {
          "model_module": "@jupyter-widgets/controls",
          "model_module_version": "1.5.0",
          "model_name": "FloatProgressModel",
          "state": {
            "_dom_classes": [],
            "_model_module": "@jupyter-widgets/controls",
            "_model_module_version": "1.5.0",
            "_model_name": "FloatProgressModel",
            "_view_count": null,
            "_view_module": "@jupyter-widgets/controls",
            "_view_module_version": "1.5.0",
            "_view_name": "ProgressView",
            "bar_style": "success",
            "description": "",
            "description_tooltip": null,
            "layout": "IPY_MODEL_99cc2a4399024a8ebacfa1fa9baa50eb",
            "max": 198,
            "min": 0,
            "orientation": "horizontal",
            "style": "IPY_MODEL_b4661c2fc04743ccb7b7ac092ea69459",
            "value": 198
          }
        },
        "b12bcef99e994aab960df1b2272cf489": {
          "model_module": "@jupyter-widgets/base",
          "model_module_version": "1.2.0",
          "model_name": "LayoutModel",
          "state": {
            "_model_module": "@jupyter-widgets/base",
            "_model_module_version": "1.2.0",
            "_model_name": "LayoutModel",
            "_view_count": null,
            "_view_module": "@jupyter-widgets/base",
            "_view_module_version": "1.2.0",
            "_view_name": "LayoutView",
            "align_content": null,
            "align_items": null,
            "align_self": null,
            "border": null,
            "bottom": null,
            "display": null,
            "flex": null,
            "flex_flow": null,
            "grid_area": null,
            "grid_auto_columns": null,
            "grid_auto_flow": null,
            "grid_auto_rows": null,
            "grid_column": null,
            "grid_gap": null,
            "grid_row": null,
            "grid_template_areas": null,
            "grid_template_columns": null,
            "grid_template_rows": null,
            "height": null,
            "justify_content": null,
            "justify_items": null,
            "left": null,
            "margin": null,
            "max_height": null,
            "max_width": null,
            "min_height": null,
            "min_width": null,
            "object_fit": null,
            "object_position": null,
            "order": null,
            "overflow": null,
            "overflow_x": null,
            "overflow_y": null,
            "padding": null,
            "right": null,
            "top": null,
            "visibility": null,
            "width": null
          }
        },
        "b4661c2fc04743ccb7b7ac092ea69459": {
          "model_module": "@jupyter-widgets/controls",
          "model_module_version": "1.5.0",
          "model_name": "ProgressStyleModel",
          "state": {
            "_model_module": "@jupyter-widgets/controls",
            "_model_module_version": "1.5.0",
            "_model_name": "ProgressStyleModel",
            "_view_count": null,
            "_view_module": "@jupyter-widgets/base",
            "_view_module_version": "1.2.0",
            "_view_name": "StyleView",
            "bar_color": null,
            "description_width": ""
          }
        },
        "c54ed7d05ab44ba298f1f0ed9f7660be": {
          "model_module": "@jupyter-widgets/controls",
          "model_module_version": "1.5.0",
          "model_name": "HTMLModel",
          "state": {
            "_dom_classes": [],
            "_model_module": "@jupyter-widgets/controls",
            "_model_module_version": "1.5.0",
            "_model_name": "HTMLModel",
            "_view_count": null,
            "_view_module": "@jupyter-widgets/controls",
            "_view_module_version": "1.5.0",
            "_view_name": "HTMLView",
            "description": "",
            "description_tooltip": null,
            "layout": "IPY_MODEL_0102277d45ff4773b7247254deced935",
            "placeholder": "​",
            "style": "IPY_MODEL_048b44a29c444cf593f64812415202f9",
            "value": "100%"
          }
        },
        "d1e4c5953437450da20f482e152f90e9": {
          "model_module": "@jupyter-widgets/base",
          "model_module_version": "1.2.0",
          "model_name": "LayoutModel",
          "state": {
            "_model_module": "@jupyter-widgets/base",
            "_model_module_version": "1.2.0",
            "_model_name": "LayoutModel",
            "_view_count": null,
            "_view_module": "@jupyter-widgets/base",
            "_view_module_version": "1.2.0",
            "_view_name": "LayoutView",
            "align_content": null,
            "align_items": null,
            "align_self": null,
            "border": null,
            "bottom": null,
            "display": null,
            "flex": null,
            "flex_flow": null,
            "grid_area": null,
            "grid_auto_columns": null,
            "grid_auto_flow": null,
            "grid_auto_rows": null,
            "grid_column": null,
            "grid_gap": null,
            "grid_row": null,
            "grid_template_areas": null,
            "grid_template_columns": null,
            "grid_template_rows": null,
            "height": null,
            "justify_content": null,
            "justify_items": null,
            "left": null,
            "margin": null,
            "max_height": null,
            "max_width": null,
            "min_height": null,
            "min_width": null,
            "object_fit": null,
            "object_position": null,
            "order": null,
            "overflow": null,
            "overflow_x": null,
            "overflow_y": null,
            "padding": null,
            "right": null,
            "top": null,
            "visibility": null,
            "width": null
          }
        },
        "d5c1b53c39ad429585bd1226b95f1c14": {
          "model_module": "@jupyter-widgets/controls",
          "model_module_version": "1.5.0",
          "model_name": "ProgressStyleModel",
          "state": {
            "_model_module": "@jupyter-widgets/controls",
            "_model_module_version": "1.5.0",
            "_model_name": "ProgressStyleModel",
            "_view_count": null,
            "_view_module": "@jupyter-widgets/base",
            "_view_module_version": "1.2.0",
            "_view_name": "StyleView",
            "bar_color": null,
            "description_width": ""
          }
        }
      }
    }
  },
  "nbformat": 4,
  "nbformat_minor": 0
}
